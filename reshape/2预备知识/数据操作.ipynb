{
 "cells": [
  {
   "cell_type": "markdown",
   "id": "0f1ba5ec",
   "metadata": {},
   "source": [
    "以下是**仅包含 PyTorch** 的张量基础与操作知识点整理，去除了其他框架内容，方便专注使用 PyTorch 学习张量相关内容。\n",
    "\n",
    "---\n",
    "\n",
    "# 张量基础与操作（PyTorch版）\n",
    "\n",
    "## 1. 张量介绍\n",
    "\n",
    "* **张量（Tensor）**：多维数组，是深度学习中存储和操作数据的主要工具。\n",
    "* PyTorch 中的张量类是 `torch.Tensor`，其 API 与 NumPy 类似。\n",
    "* 相较 NumPy，PyTorch 的张量：\n",
    "\n",
    "  * 支持 GPU 加速；\n",
    "  * 支持自动微分；\n",
    "  * 更适合深度学习任务。\n",
    "\n",
    "## 2. 创建张量"
   ]
  },
  {
   "cell_type": "code",
   "id": "f2216a64",
   "metadata": {
    "ExecuteTime": {
     "end_time": "2025-06-30T03:44:31.633259Z",
     "start_time": "2025-06-30T03:44:31.630707Z"
    }
   },
   "source": [
    "import torch"
   ],
   "outputs": [],
   "execution_count": 3
  },
  {
   "cell_type": "markdown",
   "id": "bbc631c0",
   "metadata": {},
   "source": [
    "* **一维张量**（向量）："
   ]
  },
  {
   "cell_type": "code",
   "id": "dfcccdba",
   "metadata": {
    "ExecuteTime": {
     "end_time": "2025-06-30T03:45:09.976324Z",
     "start_time": "2025-06-30T03:45:09.971803Z"
    }
   },
   "source": [
    "  x = torch.arange(12)\n",
    "  x"
   ],
   "outputs": [
    {
     "data": {
      "text/plain": [
       "tensor([ 0,  1,  2,  3,  4,  5,  6,  7,  8,  9, 10, 11])"
      ]
     },
     "execution_count": 7,
     "metadata": {},
     "output_type": "execute_result"
    }
   ],
   "execution_count": 7
  },
  {
   "cell_type": "markdown",
   "id": "88bc348b",
   "metadata": {},
   "source": [
    "* **查看形状和元素总数**："
   ]
  },
  {
   "cell_type": "code",
   "id": "b7800415",
   "metadata": {
    "ExecuteTime": {
     "end_time": "2025-06-30T03:50:58.178772Z",
     "start_time": "2025-06-30T03:50:58.174590Z"
    }
   },
   "source": [
    "  x.shape        # torch.Size([12])\n",
    "    # 12"
   ],
   "outputs": [
    {
     "data": {
      "text/plain": [
       "torch.Size([12])"
      ]
     },
     "execution_count": 8,
     "metadata": {},
     "output_type": "execute_result"
    }
   ],
   "execution_count": 8
  },
  {
   "metadata": {
    "ExecuteTime": {
     "end_time": "2025-06-30T03:51:00.091646Z",
     "start_time": "2025-06-30T03:51:00.084901Z"
    }
   },
   "cell_type": "code",
   "source": "  x.numel()",
   "id": "c2f10bb22987e4b0",
   "outputs": [
    {
     "data": {
      "text/plain": [
       "12"
      ]
     },
     "execution_count": 9,
     "metadata": {},
     "output_type": "execute_result"
    }
   ],
   "execution_count": 9
  },
  {
   "cell_type": "markdown",
   "id": "bed69c9a",
   "metadata": {},
   "source": [
    "* **改变形状（reshape）**："
   ]
  },
  {
   "cell_type": "code",
   "id": "30f7f64e",
   "metadata": {
    "ExecuteTime": {
     "end_time": "2025-06-30T03:51:53.914647Z",
     "start_time": "2025-06-30T03:51:53.910377Z"
    }
   },
   "source": "x.reshape(3, 4)  # 变为 3 行 4 列\n",
   "outputs": [
    {
     "data": {
      "text/plain": [
       "tensor([[ 0,  1,  2,  3],\n",
       "        [ 4,  5,  6,  7],\n",
       "        [ 8,  9, 10, 11]])"
      ]
     },
     "execution_count": 11,
     "metadata": {},
     "output_type": "execute_result"
    }
   ],
   "execution_count": 11
  },
  {
   "metadata": {
    "ExecuteTime": {
     "end_time": "2025-06-30T03:51:57.748538Z",
     "start_time": "2025-06-30T03:51:57.744589Z"
    }
   },
   "cell_type": "code",
   "source": "x.reshape(-1, 4)  # 自动计算行数",
   "id": "34403851aefe1c5e",
   "outputs": [
    {
     "data": {
      "text/plain": [
       "tensor([[ 0,  1,  2,  3],\n",
       "        [ 4,  5,  6,  7],\n",
       "        [ 8,  9, 10, 11]])"
      ]
     },
     "execution_count": 12,
     "metadata": {},
     "output_type": "execute_result"
    }
   ],
   "execution_count": 12
  },
  {
   "metadata": {
    "ExecuteTime": {
     "end_time": "2025-06-30T03:52:09.291221Z",
     "start_time": "2025-06-30T03:52:09.287086Z"
    }
   },
   "cell_type": "code",
   "source": "x.numel()",
   "id": "96460096e3531ffc",
   "outputs": [
    {
     "data": {
      "text/plain": [
       "12"
      ]
     },
     "execution_count": 13,
     "metadata": {},
     "output_type": "execute_result"
    }
   ],
   "execution_count": 13
  },
  {
   "cell_type": "markdown",
   "id": "3a08f65c",
   "metadata": {},
   "source": [
    "* **特殊张量初始化**："
   ]
  },
  {
   "cell_type": "code",
   "execution_count": null,
   "id": "44a413fe",
   "metadata": {},
   "outputs": [],
   "source": [
    "  torch.zeros((2, 3, 4))\n",
    "  torch.ones((2, 3, 4))\n",
    "  torch.randn(3, 4)  # 从标准正态分布采样\n",
    "  torch.tensor([[2, 1, 4, 3], [1, 2, 3, 4]])  # 通过列表定义"
   ]
  },
  {
   "cell_type": "markdown",
   "id": "86e7e03b",
   "metadata": {},
   "source": [
    "## 3. 基本运算\n",
    "\n",
    "* **按元素运算**（elementwise）："
   ]
  },
  {
   "cell_type": "code",
   "id": "d279473b",
   "metadata": {
    "ExecuteTime": {
     "end_time": "2025-06-30T03:56:32.728969Z",
     "start_time": "2025-06-30T03:56:32.707481Z"
    }
   },
   "source": [
    "  x = torch.tensor([1.0, 2, 4, 8])\n",
    "  y = torch.tensor([2.0, 2, 2, 2])\n",
    "  x + y, x - y, x * y, x / y, x ** y\n",
    "  torch.exp(x)  # e^x"
   ],
   "outputs": [
    {
     "data": {
      "text/plain": [
       "tensor([ 2.,  4.,  8., 16.])"
      ]
     },
     "execution_count": 14,
     "metadata": {},
     "output_type": "execute_result"
    }
   ],
   "execution_count": 14
  },
  {
   "cell_type": "markdown",
   "id": "a99200e9",
   "metadata": {},
   "source": [
    "* **矩阵操作**（点积、矩阵乘法）详见后续线性代数章节。\n",
    "\n",
    "## 4. 张量连接（拼接）"
   ]
  },
  {
   "cell_type": "code",
   "id": "9be5b4b8",
   "metadata": {
    "ExecuteTime": {
     "end_time": "2025-06-30T06:15:48.283719Z",
     "start_time": "2025-06-30T06:15:48.272819Z"
    }
   },
   "source": [
    "X = torch.arange(12, dtype=torch.float32).reshape((3, 4))\n",
    "Y = torch.tensor([[2.0, 1, 4, 3], [1, 2, 3, 4], [4, 3, 2, 1]])\n",
    "torch.cat((X, Y), dim=0)  # 沿行连接\n",
    "torch.cat((X, Y), dim=1)  # 沿列连接"
   ],
   "outputs": [
    {
     "data": {
      "text/plain": [
       "tensor([[ 0.,  1.,  2.,  3.,  2.,  1.,  4.,  3.],\n",
       "        [ 4.,  5.,  6.,  7.,  1.,  2.,  3.,  4.],\n",
       "        [ 8.,  9., 10., 11.,  4.,  3.,  2.,  1.]])"
      ]
     },
     "execution_count": 16,
     "metadata": {},
     "output_type": "execute_result"
    }
   ],
   "execution_count": 16
  },
  {
   "cell_type": "markdown",
   "id": "dc0005b4",
   "metadata": {},
   "source": [
    "## 5. 逻辑运算"
   ]
  },
  {
   "cell_type": "code",
   "id": "bff5e7df",
   "metadata": {
    "ExecuteTime": {
     "end_time": "2025-06-30T06:15:50.502898Z",
     "start_time": "2025-06-30T06:15:50.497734Z"
    }
   },
   "source": [
    "X == Y      # 相等判断，返回布尔张量\n",
    "X < Y       # 小于判断\n",
    "X > Y       # 大于判断"
   ],
   "outputs": [
    {
     "data": {
      "text/plain": [
       "tensor([[False, False, False, False],\n",
       "        [ True,  True,  True,  True],\n",
       "        [ True,  True,  True,  True]])"
      ]
     },
     "execution_count": 17,
     "metadata": {},
     "output_type": "execute_result"
    }
   ],
   "execution_count": 17
  },
  {
   "cell_type": "markdown",
   "id": "149ebc1f",
   "metadata": {},
   "source": [
    "## 6. 汇总操作"
   ]
  },
  {
   "cell_type": "code",
   "id": "e7dbd1cf",
   "metadata": {
    "ExecuteTime": {
     "end_time": "2025-06-30T06:15:56.967891Z",
     "start_time": "2025-06-30T06:15:56.962777Z"
    }
   },
   "source": [
    "X.sum()     # 所有元素求和"
   ],
   "outputs": [
    {
     "data": {
      "text/plain": [
       "tensor(66.)"
      ]
     },
     "execution_count": 18,
     "metadata": {},
     "output_type": "execute_result"
    }
   ],
   "execution_count": 18
  },
  {
   "cell_type": "markdown",
   "id": "73c6b351",
   "metadata": {},
   "source": [
    "## 7. 广播机制（Broadcasting）"
   ]
  },
  {
   "cell_type": "code",
   "execution_count": null,
   "id": "4e5fcd7c",
   "metadata": {},
   "outputs": [],
   "source": [
    "a = torch.arange(3).reshape((3, 1))  # 3x1\n",
    "b = torch.arange(2).reshape((1, 2))  # 1x2\n",
    "a + b  # 通过广播得到 3x2"
   ]
  },
  {
   "cell_type": "markdown",
   "id": "69b564ab",
   "metadata": {},
   "source": [
    "## 8. 索引与切片\n",
    "\n",
    "* **读取元素**："
   ]
  },
  {
   "cell_type": "code",
   "execution_count": null,
   "id": "b5274150",
   "metadata": {},
   "outputs": [],
   "source": [
    "  X[-1]       # 最后一行\n",
    "  X[1:3]      # 第2~3行"
   ]
  },
  {
   "cell_type": "markdown",
   "id": "7e9b8393",
   "metadata": {},
   "source": [
    "* **写入元素**："
   ]
  },
  {
   "cell_type": "code",
   "execution_count": null,
   "id": "3f8758c2",
   "metadata": {},
   "outputs": [],
   "source": [
    "  X[1, 2] = 9\n",
    "  X[0:2, :] = 12"
   ]
  },
  {
   "cell_type": "markdown",
   "id": "a3786f53",
   "metadata": {},
   "source": [
    "## 9. 内存优化（原地操作）\n",
    "\n",
    "* **一般操作会开辟新内存**："
   ]
  },
  {
   "cell_type": "code",
   "execution_count": null,
   "id": "7a1ece8a",
   "metadata": {},
   "outputs": [],
   "source": [
    "  before = id(Y)\n",
    "  Y = Y + X\n",
    "  id(Y) == before  # False"
   ]
  },
  {
   "cell_type": "markdown",
   "id": "fbdfabbb",
   "metadata": {},
   "source": [
    "* **使用切片原地更新**："
   ]
  },
  {
   "cell_type": "code",
   "execution_count": null,
   "id": "d72b5ba5",
   "metadata": {},
   "outputs": [],
   "source": [
    "  Z = torch.zeros_like(Y)\n",
    "  Z[:] = X + Y  # 原地修改 Z"
   ]
  },
  {
   "cell_type": "markdown",
   "id": "f64e1d35",
   "metadata": {},
   "source": [
    "* **用 += 实现原地更新**："
   ]
  },
  {
   "cell_type": "code",
   "execution_count": null,
   "id": "7cd41012",
   "metadata": {},
   "outputs": [],
   "source": [
    "  before = id(X)\n",
    "  X += Y\n",
    "  id(X) == before  # True"
   ]
  },
  {
   "cell_type": "markdown",
   "id": "9642afde",
   "metadata": {},
   "source": [
    "## 10. 转换为 Python 对象\n",
    "\n",
    "* **Tensor <=> NumPy**（共享内存）："
   ]
  },
  {
   "cell_type": "code",
   "id": "e4103163",
   "metadata": {
    "ExecuteTime": {
     "end_time": "2025-06-30T06:24:31.554877Z",
     "start_time": "2025-06-30T06:24:31.550194Z"
    }
   },
   "source": [
    "  A = X.numpy()\n",
    "  B = torch.tensor(A)\n",
    "  type(A), type(B)"
   ],
   "outputs": [
    {
     "data": {
      "text/plain": [
       "(numpy.ndarray, torch.Tensor)"
      ]
     },
     "execution_count": 20,
     "metadata": {},
     "output_type": "execute_result"
    }
   ],
   "execution_count": 20
  },
  {
   "cell_type": "markdown",
   "id": "d59f735f",
   "metadata": {},
   "source": [
    "* **Tensor => Python 标量**："
   ]
  },
  {
   "cell_type": "code",
   "id": "aa13598e",
   "metadata": {
    "ExecuteTime": {
     "end_time": "2025-06-30T06:23:56.240972Z",
     "start_time": "2025-06-30T06:23:56.236916Z"
    }
   },
   "source": [
    "  a = torch.tensor([3.5])\n",
    "  a.item(), float(a), int(a)"
   ],
   "outputs": [
    {
     "data": {
      "text/plain": [
       "(3.5, 3.5, 3)"
      ]
     },
     "execution_count": 19,
     "metadata": {},
     "output_type": "execute_result"
    }
   ],
   "execution_count": 19
  },
  {
   "cell_type": "markdown",
   "id": "46d96e6f",
   "metadata": {},
   "source": [
    "---\n",
    "\n",
    "## 小结\n",
    "\n",
    "* 张量是深度学习中最基础的数据结构。\n",
    "* PyTorch 提供了高效的张量创建、索引、广播、数学操作等功能。\n",
    "* 熟练掌握张量操作是学习深度学习的基础。\n",
    "\n",
    "---\n",
    "\n",
    "如果你还想继续整理“线性代数”、“自动微分”等 PyTorch 相关基础内容，也可以告诉我。"
   ]
  }
 ],
 "metadata": {},
 "nbformat": 4,
 "nbformat_minor": 5
}
