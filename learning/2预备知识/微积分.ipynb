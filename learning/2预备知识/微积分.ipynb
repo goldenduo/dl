{
 "cells": [
  {
   "cell_type": "code",
   "id": "initial_id",
   "metadata": {
    "collapsed": true,
    "ExecuteTime": {
     "end_time": "2025-06-05T03:08:32.202670Z",
     "start_time": "2025-06-05T03:08:32.197617Z"
    }
   },
   "source": [
    "def f(x):\n",
    "    return x**2\n",
    "\n",
    "def D(f,x,h):\n",
    "    return (f(x+h)-f(x))/h\n",
    "\n",
    "for i in range(1,100):\n",
    "    print(i,D(f,10,1/i))"
   ],
   "outputs": [
    {
     "name": "stdout",
     "output_type": "stream",
     "text": [
      "1 21.0\n",
      "2 20.5\n",
      "3 20.333333333333357\n",
      "4 20.25\n",
      "5 20.19999999999996\n",
      "6 20.1666666666666\n",
      "7 20.14285714285704\n",
      "8 20.125\n",
      "9 20.111111111111\n",
      "10 20.09999999999991\n",
      "11 20.090909090909207\n",
      "12 20.08333333333354\n",
      "13 20.07692307692301\n",
      "14 20.071428571428584\n",
      "15 20.066666666666606\n",
      "16 20.0625\n",
      "17 20.058823529411796\n",
      "18 20.0555555555554\n",
      "19 20.05263157894734\n",
      "20 20.05000000000024\n",
      "21 20.047619047618966\n",
      "22 20.04545454545442\n",
      "23 20.043478260869108\n",
      "24 20.041666666666288\n",
      "25 20.03999999999948\n",
      "26 20.038461538461377\n",
      "27 20.037037037036825\n",
      "28 20.035714285714903\n",
      "29 20.034482758621053\n",
      "30 20.03333333333316\n",
      "31 20.032258064516625\n",
      "32 20.03125\n",
      "33 20.030303030303813\n",
      "34 20.029411764705742\n",
      "35 20.02857142857131\n",
      "36 20.027777777778113\n",
      "37 20.027027027026534\n",
      "38 20.026315789474495\n",
      "39 20.02564102564071\n",
      "40 20.025000000000546\n",
      "41 20.024390243901763\n",
      "42 20.023809523809746\n",
      "43 20.02325581395364\n",
      "44 20.02272727272765\n",
      "45 20.022222222222297\n",
      "46 20.021739130435293\n",
      "47 20.02127659574444\n",
      "48 20.02083333333394\n",
      "49 20.02040816326607\n",
      "50 20.019999999999527\n",
      "51 20.019607843136896\n",
      "52 20.019230769231854\n",
      "53 20.018867924527925\n",
      "54 20.018518518519272\n",
      "55 20.018181818181233\n",
      "56 20.01785714285677\n",
      "57 20.017543859650033\n",
      "58 20.017241379310946\n",
      "59 20.016949152543276\n",
      "60 20.016666666667504\n",
      "61 20.01639344262236\n",
      "62 20.016129032257368\n",
      "63 20.01587301587314\n",
      "64 20.015625\n",
      "65 20.015384615384804\n",
      "66 20.015151515151956\n",
      "67 20.014925373134844\n",
      "68 20.014705882354406\n",
      "69 20.014492753622278\n",
      "70 20.01428571428562\n",
      "71 20.01408450704311\n",
      "72 20.013888888889596\n",
      "73 20.01369863013646\n",
      "74 20.01351351351471\n",
      "75 20.01333333333335\n",
      "76 20.01315789473699\n",
      "77 20.012987012986713\n",
      "78 20.012820512820042\n",
      "79 20.012658227848306\n",
      "80 20.012499999999136\n",
      "81 20.012345679011503\n",
      "82 20.012195121950526\n",
      "83 20.012048192771047\n",
      "84 20.01190476190618\n",
      "85 20.011764705881916\n",
      "86 20.011627906975463\n",
      "87 20.01149425287342\n",
      "88 20.011363636364422\n",
      "89 20.01123595505487\n",
      "90 20.011111111111433\n",
      "91 20.010989010988624\n",
      "92 20.01086956521675\n",
      "93 20.010752688173298\n",
      "94 20.010638297872077\n",
      "95 20.01052631578922\n",
      "96 20.01041666666606\n",
      "97 20.01030927835086\n",
      "98 20.010204081631457\n",
      "99 20.010101010101494\n"
     ]
    }
   ],
   "execution_count": 2
  },
  {
   "metadata": {
    "ExecuteTime": {
     "end_time": "2025-06-05T03:08:32.216999Z",
     "start_time": "2025-06-05T03:08:32.212490Z"
    }
   },
   "cell_type": "code",
   "source": [
    "from matplotlib import pyplot as plt\n",
    "import matplotlib\n",
    "a=sorted([f.name for f in matplotlib.font_manager.fontManager.ttflist])\n",
    "\n",
    "for i in a:\n",
    "    print(i)"
   ],
   "id": "9c5a82f7c996f825",
   "outputs": [
    {
     "name": "stdout",
     "output_type": "stream",
     "text": [
      ".Aqua Kana\n",
      ".Keyboard\n",
      ".New York\n",
      ".New York\n",
      ".SF Arabic\n",
      ".SF Compact\n",
      ".SF Compact\n",
      ".SF Compact Rounded\n",
      ".SF NS Mono\n",
      ".SF NS Mono\n",
      ".SF NS Rounded\n",
      "Academy Engraved LET\n",
      "Al Bayan\n",
      "Al Nile\n",
      "Al Tarikh\n",
      "American Typewriter\n",
      "Andale Mono\n",
      "Apple Braille\n",
      "Apple Braille\n",
      "Apple Braille\n",
      "Apple Braille\n",
      "Apple Braille\n",
      "Apple Chancery\n",
      "Apple SD Gothic Neo\n",
      "Apple Symbols\n",
      "AppleGothic\n",
      "AppleMyungjo\n",
      "Arial\n",
      "Arial\n",
      "Arial\n",
      "Arial\n",
      "Arial Black\n",
      "Arial Hebrew\n",
      "Arial Narrow\n",
      "Arial Narrow\n",
      "Arial Narrow\n",
      "Arial Narrow\n",
      "Arial Rounded MT Bold\n",
      "Arial Unicode MS\n",
      "Arial Unicode MS\n",
      "Athelas\n",
      "Avenir\n",
      "Avenir Next\n",
      "Avenir Next Condensed\n",
      "Ayuthaya\n",
      "Baghdad\n",
      "Bangla MN\n",
      "Bangla Sangam MN\n",
      "Baskerville\n",
      "Beirut\n",
      "Big Caslon\n",
      "Bodoni 72\n",
      "Bodoni 72 Oldstyle\n",
      "Bodoni 72 Smallcaps\n",
      "Bodoni Ornaments\n",
      "Bradley Hand\n",
      "Brush Script MT\n",
      "Chalkboard\n",
      "Chalkboard SE\n",
      "Chalkduster\n",
      "Charter\n",
      "Cochin\n",
      "Comic Sans MS\n",
      "Comic Sans MS\n",
      "Copperplate\n",
      "Corsiva Hebrew\n",
      "Courier\n",
      "Courier New\n",
      "Courier New\n",
      "Courier New\n",
      "Courier New\n",
      "DIN Alternate\n",
      "DIN Condensed\n",
      "Damascus\n",
      "DecoType Naskh\n",
      "DejaVu Sans\n",
      "DejaVu Sans\n",
      "DejaVu Sans\n",
      "DejaVu Sans\n",
      "DejaVu Sans Display\n",
      "DejaVu Sans Mono\n",
      "DejaVu Sans Mono\n",
      "DejaVu Sans Mono\n",
      "DejaVu Sans Mono\n",
      "DejaVu Serif\n",
      "DejaVu Serif\n",
      "DejaVu Serif\n",
      "DejaVu Serif\n",
      "DejaVu Serif Display\n",
      "Devanagari MT\n",
      "Devanagari Sangam MN\n",
      "Didot\n",
      "Diwan Kufi\n",
      "Diwan Thuluth\n",
      "Euphemia UCAS\n",
      "Farah\n",
      "Farisi\n",
      "Futura\n",
      "Galvji\n",
      "Geeza Pro\n",
      "Geneva\n",
      "Georgia\n",
      "Georgia\n",
      "Georgia\n",
      "Georgia\n",
      "Gill Sans\n",
      "Gujarati MT\n",
      "Gujarati Sangam MN\n",
      "Gurmukhi MN\n",
      "Gurmukhi MT\n",
      "Gurmukhi Sangam MN\n",
      "Heiti TC\n",
      "Heiti TC\n",
      "Helvetica\n",
      "Helvetica Neue\n",
      "Herculanum\n",
      "Hiragino Maru Gothic Pro\n",
      "Hiragino Mincho ProN\n",
      "Hiragino Sans\n",
      "Hiragino Sans\n",
      "Hiragino Sans\n",
      "Hiragino Sans\n",
      "Hiragino Sans\n",
      "Hiragino Sans\n",
      "Hiragino Sans\n",
      "Hiragino Sans\n",
      "Hiragino Sans\n",
      "Hiragino Sans\n",
      "Hiragino Sans GB\n",
      "Hoefler Text\n",
      "Hoefler Text\n",
      "ITF Devanagari\n",
      "Impact\n",
      "InaiMathi\n",
      "Iowan Old Style\n",
      "Kailasa\n",
      "Kannada MN\n",
      "Kannada Sangam MN\n",
      "Kefa\n",
      "Khmer MN\n",
      "Khmer Sangam MN\n",
      "Kohinoor Bangla\n",
      "Kohinoor Devanagari\n",
      "Kohinoor Gujarati\n",
      "Kohinoor Telugu\n",
      "Kokonor\n",
      "Krungthep\n",
      "KufiStandardGK\n",
      "Lao MN\n",
      "Lao Sangam MN\n",
      "Lucida Grande\n",
      "Luminari\n",
      "Malayalam MN\n",
      "Malayalam Sangam MN\n",
      "Marion\n",
      "Marker Felt\n",
      "Menlo\n",
      "Microsoft Sans Serif\n",
      "Mishafi\n",
      "Mishafi Gold\n",
      "Monaco\n",
      "Mshtakan\n",
      "Mukta Mahee\n",
      "Muna\n",
      "Myanmar MN\n",
      "Myanmar Sangam MN\n",
      "Nadeem\n",
      "New Peninim MT\n",
      "Noteworthy\n",
      "Noto Nastaliq Urdu\n",
      "Noto Sans Adlam\n",
      "Noto Sans Armenian\n",
      "Noto Sans Avestan\n",
      "Noto Sans Bamum\n",
      "Noto Sans Bassa Vah\n",
      "Noto Sans Batak\n",
      "Noto Sans Bhaiksuki\n",
      "Noto Sans Brahmi\n",
      "Noto Sans Buginese\n",
      "Noto Sans Buhid\n",
      "Noto Sans Carian\n",
      "Noto Sans Caucasian Albanian\n",
      "Noto Sans Chakma\n",
      "Noto Sans Cham\n",
      "Noto Sans Coptic\n",
      "Noto Sans Cuneiform\n",
      "Noto Sans Cypriot\n",
      "Noto Sans Duployan\n",
      "Noto Sans Egyptian Hieroglyphs\n",
      "Noto Sans Elbasan\n",
      "Noto Sans Glagolitic\n",
      "Noto Sans Gothic\n",
      "Noto Sans Gunjala Gondi\n",
      "Noto Sans Hanifi Rohingya\n",
      "Noto Sans Hanunoo\n",
      "Noto Sans Hatran\n",
      "Noto Sans Imperial Aramaic\n",
      "Noto Sans Inscriptional Pahlavi\n",
      "Noto Sans Inscriptional Parthian\n",
      "Noto Sans Javanese\n",
      "Noto Sans Kaithi\n",
      "Noto Sans Kannada\n",
      "Noto Sans Kayah Li\n",
      "Noto Sans Kharoshthi\n",
      "Noto Sans Khojki\n",
      "Noto Sans Khudawadi\n",
      "Noto Sans Lepcha\n",
      "Noto Sans Limbu\n",
      "Noto Sans Linear A\n",
      "Noto Sans Linear B\n",
      "Noto Sans Lisu\n",
      "Noto Sans Lycian\n",
      "Noto Sans Lydian\n",
      "Noto Sans Mahajani\n",
      "Noto Sans Mandaic\n",
      "Noto Sans Manichaean\n",
      "Noto Sans Marchen\n",
      "Noto Sans Masaram Gondi\n",
      "Noto Sans Meetei Mayek\n",
      "Noto Sans Mende Kikakui\n",
      "Noto Sans Meroitic\n",
      "Noto Sans Miao\n",
      "Noto Sans Modi\n",
      "Noto Sans Mongolian\n",
      "Noto Sans Mro\n",
      "Noto Sans Multani\n",
      "Noto Sans Myanmar\n",
      "Noto Sans NKo\n",
      "Noto Sans Nabataean\n",
      "Noto Sans New Tai Lue\n",
      "Noto Sans Newa\n",
      "Noto Sans Ol Chiki\n",
      "Noto Sans Old Hungarian\n",
      "Noto Sans Old Italic\n",
      "Noto Sans Old North Arabian\n",
      "Noto Sans Old Permic\n",
      "Noto Sans Old Persian\n",
      "Noto Sans Old South Arabian\n",
      "Noto Sans Old Turkic\n",
      "Noto Sans Oriya\n",
      "Noto Sans Osage\n",
      "Noto Sans Osmanya\n",
      "Noto Sans Pahawh Hmong\n",
      "Noto Sans Palmyrene\n",
      "Noto Sans Pau Cin Hau\n",
      "Noto Sans PhagsPa\n",
      "Noto Sans Phoenician\n",
      "Noto Sans Psalter Pahlavi\n",
      "Noto Sans Rejang\n",
      "Noto Sans Samaritan\n",
      "Noto Sans Saurashtra\n",
      "Noto Sans Sharada\n",
      "Noto Sans Siddham\n",
      "Noto Sans Sora Sompeng\n",
      "Noto Sans Sundanese\n",
      "Noto Sans Syloti Nagri\n",
      "Noto Sans Syriac\n",
      "Noto Sans Tagalog\n",
      "Noto Sans Tagbanwa\n",
      "Noto Sans Tai Le\n",
      "Noto Sans Tai Tham\n",
      "Noto Sans Tai Viet\n",
      "Noto Sans Takri\n",
      "Noto Sans Thaana\n",
      "Noto Sans Tifinagh\n",
      "Noto Sans Tirhuta\n",
      "Noto Sans Ugaritic\n",
      "Noto Sans Vai\n",
      "Noto Sans Wancho\n",
      "Noto Sans Warang Citi\n",
      "Noto Sans Yi\n",
      "Noto Serif Ahom\n",
      "Noto Serif Balinese\n",
      "Noto Serif Myanmar\n",
      "Noto Serif Yezidi\n",
      "Optima\n",
      "Oriya MN\n",
      "Oriya Sangam MN\n",
      "PT Mono\n",
      "PT Sans\n",
      "PT Serif\n",
      "PT Serif Caption\n",
      "Palatino\n",
      "Papyrus\n",
      "Party LET\n",
      "Phosphate\n",
      "PingFang HK\n",
      "Plantagenet Cherokee\n",
      "Raanana\n",
      "Rockwell\n",
      "STIXGeneral\n",
      "STIXGeneral\n",
      "STIXGeneral\n",
      "STIXGeneral\n",
      "STIXGeneral\n",
      "STIXGeneral\n",
      "STIXGeneral\n",
      "STIXGeneral\n",
      "STIXIntegralsD\n",
      "STIXIntegralsD\n",
      "STIXIntegralsSm\n",
      "STIXIntegralsSm\n",
      "STIXIntegralsUp\n",
      "STIXIntegralsUp\n",
      "STIXIntegralsUpD\n",
      "STIXIntegralsUpD\n",
      "STIXIntegralsUpSm\n",
      "STIXIntegralsUpSm\n",
      "STIXNonUnicode\n",
      "STIXNonUnicode\n",
      "STIXNonUnicode\n",
      "STIXNonUnicode\n",
      "STIXNonUnicode\n",
      "STIXNonUnicode\n",
      "STIXNonUnicode\n",
      "STIXNonUnicode\n",
      "STIXSizeFiveSym\n",
      "STIXSizeFiveSym\n",
      "STIXSizeFourSym\n",
      "STIXSizeFourSym\n",
      "STIXSizeFourSym\n",
      "STIXSizeFourSym\n",
      "STIXSizeOneSym\n",
      "STIXSizeOneSym\n",
      "STIXSizeOneSym\n",
      "STIXSizeOneSym\n",
      "STIXSizeThreeSym\n",
      "STIXSizeThreeSym\n",
      "STIXSizeThreeSym\n",
      "STIXSizeThreeSym\n",
      "STIXSizeTwoSym\n",
      "STIXSizeTwoSym\n",
      "STIXSizeTwoSym\n",
      "STIXSizeTwoSym\n",
      "STIXVariants\n",
      "STIXVariants\n",
      "Sana\n",
      "Sathu\n",
      "Savoye LET\n",
      "Seravek\n",
      "Shree Devanagari 714\n",
      "SignPainter\n",
      "Silom\n",
      "Sinhala MN\n",
      "Sinhala Sangam MN\n",
      "Skia\n",
      "Snell Roundhand\n",
      "Songti SC\n",
      "Sukhumvit Set\n",
      "Superclarendon\n",
      "Symbol\n",
      "System Font\n",
      "System Font\n",
      "Tahoma\n",
      "Tahoma\n",
      "Tamil MN\n",
      "Tamil Sangam MN\n",
      "Telugu MN\n",
      "Telugu Sangam MN\n",
      "Thonburi\n",
      "Times\n",
      "Times New Roman\n",
      "Times New Roman\n",
      "Times New Roman\n",
      "Times New Roman\n",
      "Trattatello\n",
      "Trebuchet MS\n",
      "Trebuchet MS\n",
      "Trebuchet MS\n",
      "Trebuchet MS\n",
      "Verdana\n",
      "Verdana\n",
      "Verdana\n",
      "Verdana\n",
      "Waseem\n",
      "Webdings\n",
      "Wingdings\n",
      "Wingdings 2\n",
      "Wingdings 3\n",
      "Zapf Dingbats\n",
      "Zapfino\n",
      "cmb10\n",
      "cmex10\n",
      "cmmi10\n",
      "cmr10\n",
      "cmss10\n",
      "cmsy10\n",
      "cmtt10\n"
     ]
    }
   ],
   "execution_count": 3
  },
  {
   "metadata": {
    "ExecuteTime": {
     "end_time": "2025-06-05T03:08:32.335901Z",
     "start_time": "2025-06-05T03:08:32.224785Z"
    }
   },
   "cell_type": "code",
   "source": [
    "from matplotlib import pyplot\n",
    "pyplot.rcParams['figure.figsize']=(3.5,2.5)\n",
    "pyplot.rcParams['font.sans-serif'] = ['Arial Unicode MS']  # 设置默认字体为黑体\n",
    "pyplot.rcParams['axes.unicode_minus'] = False  # 解决保存图像是负号'-'显示为方块的问题\n",
    "days=['周一','周二','周三','周四','周五','周六','周日']\n",
    "pyplot.plot(days,[1,2,3,4,5,6,7])\n",
    "pyplot.show()\n",
    "\n"
   ],
   "id": "4b9c082fb869b9d1",
   "outputs": [
    {
     "data": {
      "text/plain": [
       "<Figure size 350x250 with 1 Axes>"
      ],
      "image/png": "[encoded data removed]"
     },
     "metadata": {},
     "output_type": "display_data"
    }
   ],
   "execution_count": 4
  },
  {
   "metadata": {
    "ExecuteTime": {
     "end_time": "2025-06-05T03:08:33.789779Z",
     "start_time": "2025-06-05T03:08:32.346708Z"
    }
   },
   "cell_type": "code",
   "source": [
    "import torch\n",
    "x=torch.arange(10).reshape(1,10)\n",
    "y=torch.arange(9).reshape(1,9)\n",
    "torch.mm(x.T,y)"
   ],
   "id": "545f800d1ce05783",
   "outputs": [
    {
     "data": {
      "text/plain": [
       "tensor([[ 0,  0,  0,  0,  0,  0,  0,  0,  0],\n",
       "        [ 0,  1,  2,  3,  4,  5,  6,  7,  8],\n",
       "        [ 0,  2,  4,  6,  8, 10, 12, 14, 16],\n",
       "        [ 0,  3,  6,  9, 12, 15, 18, 21, 24],\n",
       "        [ 0,  4,  8, 12, 16, 20, 24, 28, 32],\n",
       "        [ 0,  5, 10, 15, 20, 25, 30, 35, 40],\n",
       "        [ 0,  6, 12, 18, 24, 30, 36, 42, 48],\n",
       "        [ 0,  7, 14, 21, 28, 35, 42, 49, 56],\n",
       "        [ 0,  8, 16, 24, 32, 40, 48, 56, 64],\n",
       "        [ 0,  9, 18, 27, 36, 45, 54, 63, 72]])"
      ]
     },
     "execution_count": 5,
     "metadata": {},
     "output_type": "execute_result"
    }
   ],
   "execution_count": 5
  },
  {
   "metadata": {
    "ExecuteTime": {
     "end_time": "2025-06-05T03:08:34.242786Z",
     "start_time": "2025-06-05T03:08:34.080504Z"
    }
   },
   "cell_type": "code",
   "source": [
    "from matplotlib import pyplot as plt\n",
    "x = [1, 2, 3, 4, 5]\n",
    "y = [2, 3, 5, 7, 11]\n",
    "plt.title(\"标题\")\n",
    "plt.xlabel(\"x轴\")\n",
    "plt.ylabel(\"y轴\")\n",
    "plt.plot(x,y)\n",
    "plt.grid(True)\n",
    "plt.show()"
   ],
   "id": "b5f96f542abda66f",
   "outputs": [
    {
     "data": {
      "text/plain": [
       "<Figure size 350x250 with 1 Axes>"
      ],
      "image/png": "[encoded data removed]"
     },
     "metadata": {},
     "output_type": "display_data"
    }
   ],
   "execution_count": 6
  },
  {
   "metadata": {
    "ExecuteTime": {
     "end_time": "2025-06-05T03:10:38.011617Z",
     "start_time": "2025-06-05T03:10:37.903699Z"
    }
   },
   "cell_type": "code",
   "source": [
    "x = [\"A\", \"B\", \"C\", \"D\"]\n",
    "y = [3, 7, 5, 2]\n",
    "\n",
    "\n",
    "plt.title(\"柱状图示例\")\n",
    "plt.xlabel(\"分类\")\n",
    "plt.ylabel(\"数值\")\n",
    "plt.bar(x, y, color='skyblue')"
   ],
   "id": "b6e4cdb485cbb281",
   "outputs": [
    {
     "data": {
      "text/plain": [
       "<BarContainer object of 4 artists>"
      ]
     },
     "execution_count": 12,
     "metadata": {},
     "output_type": "execute_result"
    },
    {
     "data": {
      "text/plain": [
       "<Figure size 350x250 with 1 Axes>"
      ],
      "image/png": "[encoded data removed]"
     },
     "metadata": {},
     "output_type": "display_data"
    }
   ],
   "execution_count": 12
  },
  {
   "metadata": {
    "ExecuteTime": {
     "end_time": "2025-06-05T03:10:51.470478Z",
     "start_time": "2025-06-05T03:10:51.365112Z"
    }
   },
   "cell_type": "code",
   "source": [
    "x = [1, 2, 3, 4, 5]\n",
    "y = [2, 4, 1, 8, 7]\n",
    "\n",
    "plt.scatter(x, y, color='red')\n",
    "plt.title(\"散点图示例\")\n",
    "plt.xlabel(\"X\")\n",
    "plt.ylabel(\"Y\")\n",
    "plt.show()"
   ],
   "id": "790515169e72b0d9",
   "outputs": [
    {
     "data": {
      "text/plain": [
       "<Figure size 350x250 with 1 Axes>"
      ],
      "image/png": "[encoded data removed]"
     },
     "metadata": {},
     "output_type": "display_data"
    }
   ],
   "execution_count": 13
  },
  {
   "metadata": {
    "ExecuteTime": {
     "end_time": "2025-06-05T03:11:25.383561Z",
     "start_time": "2025-06-05T03:11:25.258189Z"
    }
   },
   "cell_type": "code",
   "source": [
    "x = [1, 2, 3, 4, 5]\n",
    "y1 = [1, 4, 9, 16, 25]\n",
    "y2 = [25, 16, 9, 4, 1]\n",
    "\n",
    "plt.plot(x, y1, label=\"上升\")\n",
    "plt.plot(x, y2, label=\"下降\")\n",
    "plt.legend()   # 显示图例\n",
    "plt.title(\"多条线示例\")\n",
    "plt.show()"
   ],
   "id": "48843c399f75f9e2",
   "outputs": [
    {
     "data": {
      "text/plain": [
       "<Figure size 350x250 with 1 Axes>"
      ],
      "image/png": "[encoded data removed]"
     },
     "metadata": {},
     "output_type": "display_data"
    }
   ],
   "execution_count": 16
  },
  {
   "metadata": {
    "ExecuteTime": {
     "end_time": "2025-06-05T03:48:24.642489Z",
     "start_time": "2025-06-05T03:48:24.635239Z"
    }
   },
   "cell_type": "code",
   "source": [
    "import numpy as np\n",
    "x1=np.linspace(0,1,10)\n",
    "x2=torch.tensor(x1)\n",
    "x2.numpy()"
   ],
   "id": "af8f055df318b20d",
   "outputs": [
    {
     "data": {
      "text/plain": [
       "array([0.        , 0.11111111, 0.22222222, 0.33333333, 0.44444444,\n",
       "       0.55555556, 0.66666667, 0.77777778, 0.88888889, 1.        ])"
      ]
     },
     "execution_count": 20,
     "metadata": {},
     "output_type": "execute_result"
    }
   ],
   "execution_count": 20
  },
  {
   "metadata": {
    "ExecuteTime": {
     "end_time": "2025-06-06T01:36:16.678613Z",
     "start_time": "2025-06-06T01:36:16.554955Z"
    }
   },
   "cell_type": "code",
   "source": [
    "import numpy as np\n",
    "import matplotlib.pyplot as plt\n",
    "\n",
    "# 设置中文字体（如果需要）\n",
    "plt.rcParams['font.sans-serif'] = ['SimHei', 'Arial Unicode MS']\n",
    "plt.rcParams['axes.unicode_minus'] = False\n",
    "\n",
    "# 定义函数 f(x) = x^3 - 1/x\n",
    "def f(x):\n",
    "    return x**3 - 1/x\n",
    "\n",
    "# # 定义导数 f'(x) = 3x^2 + 1/x^2\n",
    "# def f_prime(x):\n",
    "#     return 3*x**2 + 1/(x**2)\n",
    "#\n",
    "# # 计算在 x = 1 处的函数值和导数值\n",
    "# x0 = 1\n",
    "# y0 = f(x0)  # f(1) = 1^3 - 1/1 = 0\n",
    "# slope = f_prime(x0)  # f'(1) = 3(1)^2 + 1/(1)^2 = 4\n",
    "#\n",
    "# print(f\"在 x = {x0} 处:\")\n",
    "# print(f\"函数值 f({x0}) = {y0}\")\n",
    "# print(f\"导数值 f'({x0}) = {slope}\")\n",
    "#\n",
    "# # 切线方程: y - y0 = slope * (x - x0)\n",
    "# # 即: y = slope * (x - x0) + y0 = 4x - 4\n",
    "# def tangent_line(x):\n",
    "#     return slope * (x - x0) + y0\n",
    "#\n",
    "# # 生成 x 值（避开 x = 0，因为函数在此处未定义）\n",
    "x_pos = np.linspace(0.1, 3, 200)  # 正数部分\n",
    "# x_neg = np.linspace(-3, -0.1, 200)  # 负数部分\n",
    "# x_tangent = np.linspace(-1, 3, 100)  # 切线的 x 范围\n",
    "\n",
    "# 计算对应的 y 值\n",
    "y_pos = f(x_pos)\n",
    "# y_neg = f(x_neg)\n",
    "# y_tangent = tangent_line(x_tangent)\n",
    "#\n",
    "# # 绘制图像\n",
    "# plt.figure(figsize=(10, 8))\n",
    "\n",
    "# 绘制原函数（分正负两部分，避开 x = 0）\n",
    "plt.plot(x_pos, y_pos, 'b-', linewidth=2, label=r'$y = x^3 - \\frac{1}{x}$')\n",
    "# plt.plot(x_neg, y_neg, 'b-', linewidth=2)\n",
    "#\n",
    "# # 绘制切线\n",
    "# plt.plot(x_tangent, y_tangent, 'r--', linewidth=2, label=f'切线: $y = {slope}x - {slope}$')\n",
    "\n",
    "# 标记切点\n",
    "# plt.plot(x0, y0, 'ro', markersize=8, label=f'切点 ({x0}, {y0})')\n",
    "#\n",
    "# # 设置图像属性\n",
    "# plt.grid(True, alpha=0.3)\n",
    "# plt.axhline(y=0, color='k', linewidth=0.5)\n",
    "# plt.axvline(x=0, color='k', linewidth=0.5)\n",
    "#\n",
    "# plt.xlabel('x', fontsize=12)\n",
    "# plt.ylabel('y', fontsize=12)\n",
    "# plt.title(r'函数 $y = x^3 - \\frac{1}{x}$ 及其在 $x = 1$ 处的切线', fontsize=14)\n",
    "#\n",
    "# plt.legend(fontsize=12)\n",
    "# plt.xlim(-3, 3)\n",
    "# plt.ylim(-10, 10)\n",
    "#\n",
    "# # 添加一些关键信息的文本标注\n",
    "# plt.text(1.5, 2, f'切点: (1, 0)', fontsize=10,\n",
    "#          bbox=dict(boxstyle=\"round,pad=0.3\", facecolor=\"yellow\", alpha=0.7))\n",
    "# plt.text(1.5, -2, f'切线斜率: {slope}', fontsize=10,\n",
    "#          bbox=dict(boxstyle=\"round,pad=0.3\", facecolor=\"lightgreen\", alpha=0.7))\n",
    "#\n",
    "# plt.tight_layout()\n",
    "# plt.show()\n",
    "#\n",
    "# # 验证计算\n",
    "# print(f\"\\n验证:\")\n",
    "# print(f\"切线方程: y = {slope}x + {y0 - slope*x0}\")\n",
    "# print(f\"简化为: y = {slope}x - {slope}\")"
   ],
   "id": "548b1deaaff43ba9",
   "outputs": [
    {
     "data": {
      "text/plain": [
       "[<matplotlib.lines.Line2D at 0x1233fd580>]"
      ]
     },
     "execution_count": 21,
     "metadata": {},
     "output_type": "execute_result"
    },
    {
     "data": {
      "text/plain": [
       "<Figure size 640x480 with 1 Axes>"
      ],
      "image/png": "[encoded data removed]"
     },
     "metadata": {},
     "output_type": "display_data"
    }
   ],
   "execution_count": 21
  },
  {
   "metadata": {
    "ExecuteTime": {
     "end_time": "2025-06-05T08:53:13.465294Z",
     "start_time": "2025-06-05T08:53:13.447402Z"
    }
   },
   "cell_type": "code",
   "source": [
    "# 方式1: 只有 y 值（x 自动为 0,1,2...）\n",
    "# plt.plot([1, 4, 2, 3])\n",
    "#\n",
    "# # 方式2: x, y 值\n",
    "# plt.plot([1, 2, 3, 4], [1, 4, 2, 3])\n",
    "\n",
    "# 方式3: x, y, 格式字符串\n",
    "# plt.plot([1, 2, 3, 4], [1, 4, 2, 3], 'ro-')"
   ],
   "id": "2498a208a3864b6d",
   "outputs": [],
   "execution_count": 10
  },
  {
   "metadata": {
    "ExecuteTime": {
     "end_time": "2025-06-06T01:42:59.164380Z",
     "start_time": "2025-06-06T01:42:59.041983Z"
    }
   },
   "cell_type": "code",
   "source": [
    "import numpy as np\n",
    "import matplotlib.pyplot as plt\n",
    "\n",
    "\n",
    "def f(x):\n",
    "    return x**3 - 1/x\n",
    "\n",
    "x0=1\n",
    "y0 = f(x0)\n",
    "def f_prime(x):\n",
    "    return 3*x**2 + 1/(x**2)\n",
    "\n",
    "\n",
    "\n",
    "x_neg= np.linspace(-3,-0.1,100)\n",
    "x_pos= np.linspace(0.1,3,100)\n",
    "\n",
    "slop=f_prime(x0)\n",
    "def tangent_line(x):\n",
    "    return slop*(x-x0)+y0\n",
    "\n",
    "plt.tight_layout()\n",
    "plt.grid(True)\n",
    "plt.axhline(y=0, color='k', linewidth=0.5)\n",
    "plt.axvline(x=0, color='k', linewidth=0.5)\n",
    "plt.plot(x_neg,f(x_neg),\"r-\")\n",
    "plt.plot(x_pos,f(x_pos),\"r-\")\n",
    "plt.plot(x,tangent_line(x),\"b-\")\n",
    "\n",
    "\n"
   ],
   "id": "b4b85ab907725bb5",
   "outputs": [
    {
     "data": {
      "text/plain": [
       "[<matplotlib.lines.Line2D at 0x123ae50d0>]"
      ]
     },
     "execution_count": 35,
     "metadata": {},
     "output_type": "execute_result"
    },
    {
     "data": {
      "text/plain": [
       "<Figure size 640x480 with 1 Axes>"
      ],
      "image/png": "[encoded data removed]"
     },
     "metadata": {},
     "output_type": "display_data"
    }
   ],
   "execution_count": 35
  },
  {
   "metadata": {},
   "cell_type": "code",
   "outputs": [],
   "execution_count": null,
   "source": "",
   "id": "3c886cd131c7bc2f"
  }
 ],
 "metadata": {
  "kernelspec": {
   "display_name": "Python 3",
   "language": "python",
   "name": "python3"
  },
  "language_info": {
   "codemirror_mode": {
    "name": "ipython",
    "version": 2
   },
   "file_extension": ".py",
   "mimetype": "text/x-python",
   "name": "python",
   "nbconvert_exporter": "python",
   "pygments_lexer": "ipython2",
   "version": "2.7.6"
  }
 },
 "nbformat": 4,
 "nbformat_minor": 5
}
