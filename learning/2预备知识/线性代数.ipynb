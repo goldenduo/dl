{
 "cells": [
  {
   "cell_type": "code",
   "id": "initial_id",
   "metadata": {
    "collapsed": true,
    "ExecuteTime": {
     "end_time": "2025-05-29T02:26:26.644247Z",
     "start_time": "2025-05-29T02:26:26.635975Z"
    }
   },
   "source": [
    "import torch\n",
    "x = torch.tensor(3)\n",
    "y = torch.tensor(4)\n",
    "x,y,x+y"
   ],
   "outputs": [
    {
     "data": {
      "text/plain": [
       "(tensor(3), tensor(4), tensor(7))"
      ]
     },
     "execution_count": 14,
     "metadata": {},
     "output_type": "execute_result"
    }
   ],
   "execution_count": 14
  },
  {
   "metadata": {
    "ExecuteTime": {
     "end_time": "2025-05-29T02:26:26.657948Z",
     "start_time": "2025-05-29T02:26:26.654019Z"
    }
   },
   "cell_type": "code",
   "source": [
    "x = torch.arange(10)\n",
    "x"
   ],
   "id": "c5e5abfb3d3ec04d",
   "outputs": [
    {
     "data": {
      "text/plain": [
       "tensor([0, 1, 2, 3, 4, 5, 6, 7, 8, 9])"
      ]
     },
     "execution_count": 15,
     "metadata": {},
     "output_type": "execute_result"
    }
   ],
   "execution_count": 15
  },
  {
   "metadata": {
    "ExecuteTime": {
     "end_time": "2025-05-29T02:26:26.670493Z",
     "start_time": "2025-05-29T02:26:26.666458Z"
    }
   },
   "cell_type": "code",
   "source": "len(x)",
   "id": "f6b337dc27c1c4bd",
   "outputs": [
    {
     "data": {
      "text/plain": [
       "10"
      ]
     },
     "execution_count": 16,
     "metadata": {},
     "output_type": "execute_result"
    }
   ],
   "execution_count": 16
  },
  {
   "metadata": {
    "ExecuteTime": {
     "end_time": "2025-05-29T02:26:26.696435Z",
     "start_time": "2025-05-29T02:26:26.692860Z"
    }
   },
   "cell_type": "code",
   "source": "x.shape",
   "id": "a93f80ca13d67f58",
   "outputs": [
    {
     "data": {
      "text/plain": [
       "torch.Size([10])"
      ]
     },
     "execution_count": 17,
     "metadata": {},
     "output_type": "execute_result"
    }
   ],
   "execution_count": 17
  },
  {
   "metadata": {
    "ExecuteTime": {
     "end_time": "2025-05-29T02:26:26.722376Z",
     "start_time": "2025-05-29T02:26:26.718283Z"
    }
   },
   "cell_type": "code",
   "source": [
    "x=torch.arange(20).reshape(2,10)\n",
    "x"
   ],
   "id": "750a078aad9431b3",
   "outputs": [
    {
     "data": {
      "text/plain": [
       "tensor([[ 0,  1,  2,  3,  4,  5,  6,  7,  8,  9],\n",
       "        [10, 11, 12, 13, 14, 15, 16, 17, 18, 19]])"
      ]
     },
     "execution_count": 18,
     "metadata": {},
     "output_type": "execute_result"
    }
   ],
   "execution_count": 18
  },
  {
   "metadata": {
    "ExecuteTime": {
     "end_time": "2025-05-29T02:26:26.790101Z",
     "start_time": "2025-05-29T02:26:26.779529Z"
    }
   },
   "cell_type": "code",
   "source": "x.T",
   "id": "65b4ae6938fb1c4d",
   "outputs": [
    {
     "data": {
      "text/plain": [
       "tensor([[ 0, 10],\n",
       "        [ 1, 11],\n",
       "        [ 2, 12],\n",
       "        [ 3, 13],\n",
       "        [ 4, 14],\n",
       "        [ 5, 15],\n",
       "        [ 6, 16],\n",
       "        [ 7, 17],\n",
       "        [ 8, 18],\n",
       "        [ 9, 19]])"
      ]
     },
     "execution_count": 19,
     "metadata": {},
     "output_type": "execute_result"
    }
   ],
   "execution_count": 19
  },
  {
   "metadata": {
    "ExecuteTime": {
     "end_time": "2025-05-29T02:26:26.897300Z",
     "start_time": "2025-05-29T02:26:26.891103Z"
    }
   },
   "cell_type": "code",
   "source": "torch.zeros(2,10)",
   "id": "d424a97a0d2112b8",
   "outputs": [
    {
     "data": {
      "text/plain": [
       "tensor([[0., 0., 0., 0., 0., 0., 0., 0., 0., 0.],\n",
       "        [0., 0., 0., 0., 0., 0., 0., 0., 0., 0.]])"
      ]
     },
     "execution_count": 20,
     "metadata": {},
     "output_type": "execute_result"
    }
   ],
   "execution_count": 20
  },
  {
   "metadata": {
    "ExecuteTime": {
     "end_time": "2025-05-30T03:01:29.555683Z",
     "start_time": "2025-05-30T03:01:29.550329Z"
    }
   },
   "cell_type": "code",
   "source": [
    "z=torch.arange(12).reshape(2,2,3)\n",
    "z,z.sum(2)"
   ],
   "id": "e75645dda3903625",
   "outputs": [
    {
     "data": {
      "text/plain": [
       "(tensor([[[ 0,  1,  2],\n",
       "          [ 3,  4,  5]],\n",
       " \n",
       "         [[ 6,  7,  8],\n",
       "          [ 9, 10, 11]]]),\n",
       " tensor([[ 3, 12],\n",
       "         [21, 30]]))"
      ]
     },
     "execution_count": 33,
     "metadata": {},
     "output_type": "execute_result"
    }
   ],
   "execution_count": 33
  },
  {
   "metadata": {
    "ExecuteTime": {
     "end_time": "2025-05-30T03:55:28.404210Z",
     "start_time": "2025-05-30T03:55:28.394263Z"
    }
   },
   "cell_type": "code",
   "source": [
    "A = torch.arange(20, dtype=torch.float32).reshape(5, 4)\n",
    "A"
   ],
   "id": "5a71efd770396d5b",
   "outputs": [
    {
     "data": {
      "text/plain": [
       "tensor([[ 0.,  1.,  2.,  3.],\n",
       "        [ 4.,  5.,  6.,  7.],\n",
       "        [ 8.,  9., 10., 11.],\n",
       "        [12., 13., 14., 15.],\n",
       "        [16., 17., 18., 19.]])"
      ]
     },
     "execution_count": 35,
     "metadata": {},
     "output_type": "execute_result"
    }
   ],
   "execution_count": 35
  },
  {
   "metadata": {
    "ExecuteTime": {
     "end_time": "2025-05-30T03:56:00.969965Z",
     "start_time": "2025-05-30T03:56:00.899560Z"
    }
   },
   "cell_type": "code",
   "source": [
    "B=A.sum(0,keepdim=True)\n",
    "B"
   ],
   "id": "673373134a3e2a4c",
   "outputs": [
    {
     "data": {
      "text/plain": [
       "tensor([[40., 45., 50., 55.]])"
      ]
     },
     "execution_count": 36,
     "metadata": {},
     "output_type": "execute_result"
    }
   ],
   "execution_count": 36
  },
  {
   "metadata": {
    "ExecuteTime": {
     "end_time": "2025-05-30T03:56:31.762924Z",
     "start_time": "2025-05-30T03:56:31.751358Z"
    }
   },
   "cell_type": "code",
   "source": "A/B",
   "id": "25edd56e1f866f66",
   "outputs": [
    {
     "data": {
      "text/plain": [
       "tensor([[0.0000, 0.0222, 0.0400, 0.0545],\n",
       "        [0.1000, 0.1111, 0.1200, 0.1273],\n",
       "        [0.2000, 0.2000, 0.2000, 0.2000],\n",
       "        [0.3000, 0.2889, 0.2800, 0.2727],\n",
       "        [0.4000, 0.3778, 0.3600, 0.3455]])"
      ]
     },
     "execution_count": 37,
     "metadata": {},
     "output_type": "execute_result"
    }
   ],
   "execution_count": 37
  },
  {
   "metadata": {
    "ExecuteTime": {
     "end_time": "2025-05-30T06:03:45.637218Z",
     "start_time": "2025-05-30T06:03:45.631748Z"
    }
   },
   "cell_type": "code",
   "source": "A",
   "id": "7db2dca70ed21988",
   "outputs": [
    {
     "data": {
      "text/plain": [
       "tensor([[ 0.,  1.,  2.,  3.],\n",
       "        [ 4.,  5.,  6.,  7.],\n",
       "        [ 8.,  9., 10., 11.],\n",
       "        [12., 13., 14., 15.],\n",
       "        [16., 17., 18., 19.]])"
      ]
     },
     "execution_count": 39,
     "metadata": {},
     "output_type": "execute_result"
    }
   ],
   "execution_count": 39
  },
  {
   "metadata": {
    "ExecuteTime": {
     "end_time": "2025-05-30T06:03:23.577893Z",
     "start_time": "2025-05-30T06:03:23.471277Z"
    }
   },
   "cell_type": "code",
   "source": "A.cumsum(0)",
   "id": "b3ffed38f9a7ec7c",
   "outputs": [
    {
     "data": {
      "text/plain": [
       "tensor([[ 0.,  1.,  2.,  3.],\n",
       "        [ 4.,  6.,  8., 10.],\n",
       "        [12., 15., 18., 21.],\n",
       "        [24., 28., 32., 36.],\n",
       "        [40., 45., 50., 55.]])"
      ]
     },
     "execution_count": 38,
     "metadata": {},
     "output_type": "execute_result"
    }
   ],
   "execution_count": 38
  },
  {
   "metadata": {
    "ExecuteTime": {
     "end_time": "2025-05-30T06:13:35.254409Z",
     "start_time": "2025-05-30T06:13:35.249284Z"
    }
   },
   "cell_type": "code",
   "source": [
    "A=torch.arange(10)\n",
    "B=A+1\n",
    "A,B"
   ],
   "id": "d33403443636ac35",
   "outputs": [
    {
     "data": {
      "text/plain": [
       "(tensor([0, 1, 2, 3, 4, 5, 6, 7, 8, 9]),\n",
       " tensor([ 1,  2,  3,  4,  5,  6,  7,  8,  9, 10]))"
      ]
     },
     "execution_count": 42,
     "metadata": {},
     "output_type": "execute_result"
    }
   ],
   "execution_count": 42
  },
  {
   "metadata": {
    "ExecuteTime": {
     "end_time": "2025-05-30T06:13:36.446928Z",
     "start_time": "2025-05-30T06:13:36.438095Z"
    }
   },
   "cell_type": "code",
   "source": "torch.dot(A,B)",
   "id": "8944acac8e8e3305",
   "outputs": [
    {
     "data": {
      "text/plain": [
       "tensor(330)"
      ]
     },
     "execution_count": 43,
     "metadata": {},
     "output_type": "execute_result"
    }
   ],
   "execution_count": 43
  },
  {
   "metadata": {
    "ExecuteTime": {
     "end_time": "2025-05-30T06:54:09.224609Z",
     "start_time": "2025-05-30T06:54:09.189093Z"
    }
   },
   "cell_type": "code",
   "source": [
    "A=torch.arange(10).reshape(5,2)\n",
    "B=torch.arange(2)\n",
    "A,B,torch.mv(A,B)"
   ],
   "id": "ab8d9fc1ab064e03",
   "outputs": [
    {
     "data": {
      "text/plain": [
       "(tensor([[0, 1],\n",
       "         [2, 3],\n",
       "         [4, 5],\n",
       "         [6, 7],\n",
       "         [8, 9]]),\n",
       " tensor([0, 1]),\n",
       " tensor([1, 3, 5, 7, 9]))"
      ]
     },
     "execution_count": 45,
     "metadata": {},
     "output_type": "execute_result"
    }
   ],
   "execution_count": 45
  },
  {
   "metadata": {
    "ExecuteTime": {
     "end_time": "2025-05-30T06:55:58.577683Z",
     "start_time": "2025-05-30T06:55:58.515841Z"
    }
   },
   "cell_type": "code",
   "source": [
    "A=torch.arange(10).reshape(5,2)\n",
    "B=torch.arange(12).reshape(2,6)\n",
    "A,B,torch.mm(A,B)"
   ],
   "id": "16417bc980b9ac73",
   "outputs": [
    {
     "data": {
      "text/plain": [
       "(tensor([[0, 1],\n",
       "         [2, 3],\n",
       "         [4, 5],\n",
       "         [6, 7],\n",
       "         [8, 9]]),\n",
       " tensor([[ 0,  1,  2,  3,  4,  5],\n",
       "         [ 6,  7,  8,  9, 10, 11]]),\n",
       " tensor([[  6,   7,   8,   9,  10,  11],\n",
       "         [ 18,  23,  28,  33,  38,  43],\n",
       "         [ 30,  39,  48,  57,  66,  75],\n",
       "         [ 42,  55,  68,  81,  94, 107],\n",
       "         [ 54,  71,  88, 105, 122, 139]]))"
      ]
     },
     "execution_count": 47,
     "metadata": {},
     "output_type": "execute_result"
    }
   ],
   "execution_count": 47
  },
  {
   "metadata": {
    "ExecuteTime": {
     "end_time": "2025-05-30T07:37:37.690707Z",
     "start_time": "2025-05-30T07:37:37.611052Z"
    }
   },
   "cell_type": "code",
   "source": [
    "A=torch.arange(10).reshape(5,2)\n",
    "B=A.T.T\n",
    "torch.equal(A,B)"
   ],
   "id": "c3e48caa37bd8e70",
   "outputs": [
    {
     "data": {
      "text/plain": [
       "True"
      ]
     },
     "execution_count": 48,
     "metadata": {},
     "output_type": "execute_result"
    }
   ],
   "execution_count": 48
  },
  {
   "metadata": {
    "ExecuteTime": {
     "end_time": "2025-05-30T07:38:55.839008Z",
     "start_time": "2025-05-30T07:38:55.826962Z"
    }
   },
   "cell_type": "code",
   "source": [
    "A=torch.arange(10).reshape(5,2)\n",
    "B=torch.arange(10,20).reshape(5,2)\n",
    "\n",
    "torch.equal(A.T+B.T,(A+B).T)"
   ],
   "id": "9037df9f1fb2f64c",
   "outputs": [
    {
     "data": {
      "text/plain": [
       "True"
      ]
     },
     "execution_count": 49,
     "metadata": {},
     "output_type": "execute_result"
    }
   ],
   "execution_count": 49
  },
  {
   "metadata": {
    "ExecuteTime": {
     "end_time": "2025-05-30T07:41:43.348801Z",
     "start_time": "2025-05-30T07:41:43.336954Z"
    }
   },
   "cell_type": "code",
   "source": [
    "A=torch.arange(36).reshape(6,6)\n",
    "A.T+A"
   ],
   "id": "490a01b2a1cac4eb",
   "outputs": [
    {
     "data": {
      "text/plain": [
       "tensor([[ 0,  7, 14, 21, 28, 35],\n",
       "        [ 7, 14, 21, 28, 35, 42],\n",
       "        [14, 21, 28, 35, 42, 49],\n",
       "        [21, 28, 35, 42, 49, 56],\n",
       "        [28, 35, 42, 49, 56, 63],\n",
       "        [35, 42, 49, 56, 63, 70]])"
      ]
     },
     "execution_count": 51,
     "metadata": {},
     "output_type": "execute_result"
    }
   ],
   "execution_count": 51
  },
  {
   "metadata": {
    "ExecuteTime": {
     "end_time": "2025-05-30T07:43:19.401403Z",
     "start_time": "2025-05-30T07:43:19.396412Z"
    }
   },
   "cell_type": "code",
   "source": "len(torch.arange(2*3*4).reshape(2,3,4))",
   "id": "eb9071078d8ca14f",
   "outputs": [
    {
     "data": {
      "text/plain": [
       "2"
      ]
     },
     "execution_count": 52,
     "metadata": {},
     "output_type": "execute_result"
    }
   ],
   "execution_count": 52
  },
  {
   "metadata": {
    "ExecuteTime": {
     "end_time": "2025-05-30T07:47:34.167244Z",
     "start_time": "2025-05-30T07:47:34.160513Z"
    }
   },
   "cell_type": "code",
   "source": [
    "A=torch.arange(20).reshape(1,20)\n",
    "A,A.sum(1),A/A.sum(1)"
   ],
   "id": "9f1bb19512d7f2c9",
   "outputs": [
    {
     "data": {
      "text/plain": [
       "(tensor([[ 0,  1,  2,  3,  4,  5,  6,  7,  8,  9, 10, 11, 12, 13, 14, 15, 16, 17,\n",
       "          18, 19]]),\n",
       " tensor([190]),\n",
       " tensor([[0.0000, 0.0053, 0.0105, 0.0158, 0.0211, 0.0263, 0.0316, 0.0368, 0.0421,\n",
       "          0.0474, 0.0526, 0.0579, 0.0632, 0.0684, 0.0737, 0.0789, 0.0842, 0.0895,\n",
       "          0.0947, 0.1000]]))"
      ]
     },
     "execution_count": 56,
     "metadata": {},
     "output_type": "execute_result"
    }
   ],
   "execution_count": 56
  }
 ],
 "metadata": {
  "kernelspec": {
   "display_name": "Python 3",
   "language": "python",
   "name": "python3"
  },
  "language_info": {
   "codemirror_mode": {
    "name": "ipython",
    "version": 2
   },
   "file_extension": ".py",
   "mimetype": "text/x-python",
   "name": "python",
   "nbconvert_exporter": "python",
   "pygments_lexer": "ipython2",
   "version": "2.7.6"
  }
 },
 "nbformat": 4,
 "nbformat_minor": 5
}
