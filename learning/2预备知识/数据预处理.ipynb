{
 "cells": [
  {
   "cell_type": "code",
   "id": "initial_id",
   "metadata": {
    "collapsed": true,
    "ExecuteTime": {
     "end_time": "2025-05-29T02:56:05.631022Z",
     "start_time": "2025-05-29T02:56:05.609207Z"
    }
   },
   "source": [
    "import os\n",
    "\n",
    "os.makedirs(os.path.join(\"..\",\"csv\"),exist_ok=True)\n",
    "filePath=os.path.join(\"..\",\"csv\",\"test.csv\")\n",
    "with open(filePath,mode=\"w\",encoding=\"utf-8\") as f:\n",
    "    f.write(\"name,money\\n\")\n",
    "    f.write(\"Alan,22222222\\n\")\n",
    "    f.write(\"Peter,33333333\\n\")\n",
    "    f.write(\"Jack,NA\\n\")\n",
    "type(filePath)"
   ],
   "outputs": [
    {
     "data": {
      "text/plain": [
       "str"
      ]
     },
     "execution_count": 21,
     "metadata": {},
     "output_type": "execute_result"
    }
   ],
   "execution_count": 21
  },
  {
   "metadata": {
    "ExecuteTime": {
     "end_time": "2025-05-28T06:47:24.832709Z",
     "start_time": "2025-05-28T06:47:24.825986Z"
    }
   },
   "cell_type": "code",
   "source": [
    "import pandas\n",
    "data = pandas.read_csv(filePath)\n",
    "data"
   ],
   "id": "14d65934cd6c26c9",
   "outputs": [
    {
     "data": {
      "text/plain": [
       "    name       money\n",
       "0   Alan  22222222.0\n",
       "1  Peter  33333333.0\n",
       "2   Jack         NaN"
      ],
      "text/html": [
       "<div>\n",
       "<style scoped>\n",
       "    .dataframe tbody tr th:only-of-type {\n",
       "        vertical-align: middle;\n",
       "    }\n",
       "\n",
       "    .dataframe tbody tr th {\n",
       "        vertical-align: top;\n",
       "    }\n",
       "\n",
       "    .dataframe thead th {\n",
       "        text-align: right;\n",
       "    }\n",
       "</style>\n",
       "<table border=\"1\" class=\"dataframe\">\n",
       "  <thead>\n",
       "    <tr style=\"text-align: right;\">\n",
       "      <th></th>\n",
       "      <th>name</th>\n",
       "      <th>money</th>\n",
       "    </tr>\n",
       "  </thead>\n",
       "  <tbody>\n",
       "    <tr>\n",
       "      <th>0</th>\n",
       "      <td>Alan</td>\n",
       "      <td>22222222.0</td>\n",
       "    </tr>\n",
       "    <tr>\n",
       "      <th>1</th>\n",
       "      <td>Peter</td>\n",
       "      <td>33333333.0</td>\n",
       "    </tr>\n",
       "    <tr>\n",
       "      <th>2</th>\n",
       "      <td>Jack</td>\n",
       "      <td>NaN</td>\n",
       "    </tr>\n",
       "  </tbody>\n",
       "</table>\n",
       "</div>"
      ]
     },
     "execution_count": 12,
     "metadata": {},
     "output_type": "execute_result"
    }
   ],
   "execution_count": 12
  },
  {
   "metadata": {
    "ExecuteTime": {
     "end_time": "2025-05-28T06:47:46.334674Z",
     "start_time": "2025-05-28T06:47:46.329278Z"
    }
   },
   "cell_type": "code",
   "source": "m=data.iloc[:,1]",
   "id": "e1e4af510965e33a",
   "outputs": [
    {
     "data": {
      "text/plain": [
       "0    22222222.0\n",
       "1    33333333.0\n",
       "2           NaN\n",
       "Name: money, dtype: float64"
      ]
     },
     "execution_count": 14,
     "metadata": {},
     "output_type": "execute_result"
    }
   ],
   "execution_count": 14
  },
  {
   "metadata": {
    "ExecuteTime": {
     "end_time": "2025-05-28T07:51:11.380388Z",
     "start_time": "2025-05-28T07:51:11.262981Z"
    }
   },
   "cell_type": "code",
   "source": [
    "m = data.iloc[:,1]\n",
    "m = m.fillna(m.mean())\n",
    "m"
   ],
   "id": "59d4305ca7e34ede",
   "outputs": [
    {
     "data": {
      "text/plain": [
       "0    22222222.0\n",
       "1    33333333.0\n",
       "2    27777777.5\n",
       "Name: money, dtype: float64"
      ]
     },
     "execution_count": 15,
     "metadata": {},
     "output_type": "execute_result"
    }
   ],
   "execution_count": 15
  },
  {
   "metadata": {
    "ExecuteTime": {
     "end_time": "2025-05-28T07:53:39.227491Z",
     "start_time": "2025-05-28T07:53:39.222885Z"
    }
   },
   "cell_type": "code",
   "source": "type(m)",
   "id": "c0bd68db61b949d6",
   "outputs": [
    {
     "data": {
      "text/plain": [
       "pandas.core.series.Series"
      ]
     },
     "execution_count": 16,
     "metadata": {},
     "output_type": "execute_result"
    }
   ],
   "execution_count": 16
  },
  {
   "metadata": {
    "ExecuteTime": {
     "end_time": "2025-05-28T07:54:00.765356Z",
     "start_time": "2025-05-28T07:54:00.761186Z"
    }
   },
   "cell_type": "code",
   "source": "type(m.values)",
   "id": "c9fa5200ed933721",
   "outputs": [
    {
     "data": {
      "text/plain": [
       "numpy.ndarray"
      ]
     },
     "execution_count": 17,
     "metadata": {},
     "output_type": "execute_result"
    }
   ],
   "execution_count": 17
  },
  {
   "metadata": {
    "ExecuteTime": {
     "end_time": "2025-05-28T07:57:28.212588Z",
     "start_time": "2025-05-28T07:57:28.208236Z"
    }
   },
   "cell_type": "code",
   "source": [
    "import torch\n",
    "torch.tensor(m.values)"
   ],
   "id": "3ffdaa723e00cfe",
   "outputs": [
    {
     "data": {
      "text/plain": [
       "tensor([22222222.0000, 33333333.0000, 27777777.5000], dtype=torch.float64)"
      ]
     },
     "execution_count": 20,
     "metadata": {},
     "output_type": "execute_result"
    }
   ],
   "execution_count": 20
  },
  {
   "metadata": {
    "ExecuteTime": {
     "end_time": "2025-05-29T03:22:15.833667Z",
     "start_time": "2025-05-29T03:22:15.807475Z"
    }
   },
   "cell_type": "code",
   "source": [
    "with open('../csv/test.csv') as f:\n",
    "    while True:\n",
    "        line = f.readline()\n",
    "        print(line)\n",
    "        if not line:\n",
    "            break"
   ],
   "id": "1ab061943d746a50",
   "outputs": [
    {
     "name": "stdout",
     "output_type": "stream",
     "text": [
      "name,money\n",
      "\n",
      "Alan,22222222\n",
      "\n",
      "Peter,33333333\n",
      "\n",
      "Jack,NA\n",
      "\n",
      "\n"
     ]
    }
   ],
   "execution_count": 22
  },
  {
   "metadata": {
    "ExecuteTime": {
     "end_time": "2025-05-30T01:41:50.596923Z",
     "start_time": "2025-05-30T01:41:50.555851Z"
    }
   },
   "cell_type": "code",
   "source": [
    "filePath='../csv/test2.csv'\n",
    "os.makedirs(os.path.dirname(filePath),exist_ok=True)\n",
    "with open('../csv/test2.csv',mode='w') as f:\n",
    "    f.write(\"name,room,money,age\\n\")\n",
    "    f.write(\"Alan,A1,100000,NA\\n\")\n",
    "    f.write(\"Peter,B1,NA,18\\n\")\n",
    "    f.write(\"Jack,NA,NA,30\\n\")"
   ],
   "id": "724437c616332f9a",
   "outputs": [],
   "execution_count": 29
  },
  {
   "metadata": {
    "ExecuteTime": {
     "end_time": "2025-05-30T01:41:52.864945Z",
     "start_time": "2025-05-30T01:41:52.811635Z"
    }
   },
   "cell_type": "code",
   "source": [
    "import pandas\n",
    "csv=pandas.read_csv(filePath)\n"
   ],
   "id": "a77a3f9555aeb15d",
   "outputs": [],
   "execution_count": 30
  },
  {
   "metadata": {
    "ExecuteTime": {
     "end_time": "2025-05-30T01:41:54.730525Z",
     "start_time": "2025-05-30T01:41:54.703633Z"
    }
   },
   "cell_type": "code",
   "source": [
    "dummies = pandas.get_dummies(csv,dummy_na=True)\n",
    "dummies"
   ],
   "id": "814c4bc50cddbdbb",
   "outputs": [
    {
     "data": {
      "text/plain": [
       "      money   age  name_Alan  name_Jack  name_Peter  name_nan  room_A1  \\\n",
       "0  100000.0   NaN       True      False       False     False     True   \n",
       "1       NaN  18.0      False      False        True     False    False   \n",
       "2       NaN  30.0      False       True       False     False    False   \n",
       "\n",
       "   room_B1  room_nan  \n",
       "0    False     False  \n",
       "1     True     False  \n",
       "2    False      True  "
      ],
      "text/html": [
       "<div>\n",
       "<style scoped>\n",
       "    .dataframe tbody tr th:only-of-type {\n",
       "        vertical-align: middle;\n",
       "    }\n",
       "\n",
       "    .dataframe tbody tr th {\n",
       "        vertical-align: top;\n",
       "    }\n",
       "\n",
       "    .dataframe thead th {\n",
       "        text-align: right;\n",
       "    }\n",
       "</style>\n",
       "<table border=\"1\" class=\"dataframe\">\n",
       "  <thead>\n",
       "    <tr style=\"text-align: right;\">\n",
       "      <th></th>\n",
       "      <th>money</th>\n",
       "      <th>age</th>\n",
       "      <th>name_Alan</th>\n",
       "      <th>name_Jack</th>\n",
       "      <th>name_Peter</th>\n",
       "      <th>name_nan</th>\n",
       "      <th>room_A1</th>\n",
       "      <th>room_B1</th>\n",
       "      <th>room_nan</th>\n",
       "    </tr>\n",
       "  </thead>\n",
       "  <tbody>\n",
       "    <tr>\n",
       "      <th>0</th>\n",
       "      <td>100000.0</td>\n",
       "      <td>NaN</td>\n",
       "      <td>True</td>\n",
       "      <td>False</td>\n",
       "      <td>False</td>\n",
       "      <td>False</td>\n",
       "      <td>True</td>\n",
       "      <td>False</td>\n",
       "      <td>False</td>\n",
       "    </tr>\n",
       "    <tr>\n",
       "      <th>1</th>\n",
       "      <td>NaN</td>\n",
       "      <td>18.0</td>\n",
       "      <td>False</td>\n",
       "      <td>False</td>\n",
       "      <td>True</td>\n",
       "      <td>False</td>\n",
       "      <td>False</td>\n",
       "      <td>True</td>\n",
       "      <td>False</td>\n",
       "    </tr>\n",
       "    <tr>\n",
       "      <th>2</th>\n",
       "      <td>NaN</td>\n",
       "      <td>30.0</td>\n",
       "      <td>False</td>\n",
       "      <td>True</td>\n",
       "      <td>False</td>\n",
       "      <td>False</td>\n",
       "      <td>False</td>\n",
       "      <td>False</td>\n",
       "      <td>True</td>\n",
       "    </tr>\n",
       "  </tbody>\n",
       "</table>\n",
       "</div>"
      ]
     },
     "execution_count": 31,
     "metadata": {},
     "output_type": "execute_result"
    }
   ],
   "execution_count": 31
  },
  {
   "metadata": {
    "ExecuteTime": {
     "end_time": "2025-05-30T02:18:46.987919Z",
     "start_time": "2025-05-30T02:18:46.982919Z"
    }
   },
   "cell_type": "code",
   "source": "csv.isna().sum()",
   "id": "c8bb80a7e3af421c",
   "outputs": [
    {
     "data": {
      "text/plain": [
       "name     0\n",
       "room     1\n",
       "money    2\n",
       "age      1\n",
       "dtype: int64"
      ]
     },
     "execution_count": 47,
     "metadata": {},
     "output_type": "execute_result"
    }
   ],
   "execution_count": 47
  },
  {
   "metadata": {},
   "cell_type": "code",
   "outputs": [],
   "execution_count": null,
   "source": "",
   "id": "f4dea4d96d0ce5a0"
  },
  {
   "metadata": {
    "ExecuteTime": {
     "end_time": "2025-05-30T02:20:57.132529Z",
     "start_time": "2025-05-30T02:20:57.122434Z"
    }
   },
   "cell_type": "code",
   "source": [
    "csv2=csv.drop(columns=[csv.isna().sum().idxmax()])\n",
    "csv,csv2"
   ],
   "id": "67f6f3111676e446",
   "outputs": [
    {
     "data": {
      "text/plain": [
       "(    name room     money   age\n",
       " 0   Alan   A1  100000.0   NaN\n",
       " 1  Peter   B1       NaN  18.0\n",
       " 2   Jack  NaN       NaN  30.0,\n",
       "     name room   age\n",
       " 0   Alan   A1   NaN\n",
       " 1  Peter   B1  18.0\n",
       " 2   Jack  NaN  30.0)"
      ]
     },
     "execution_count": 51,
     "metadata": {},
     "output_type": "execute_result"
    }
   ],
   "execution_count": 51
  },
  {
   "metadata": {
    "ExecuteTime": {
     "end_time": "2025-05-30T02:28:03.472693Z",
     "start_time": "2025-05-30T02:28:03.461724Z"
    }
   },
   "cell_type": "code",
   "source": [
    "dummies=pandas.get_dummies(csv2,dummy_na=True,dtype=int)\n",
    "dummies"
   ],
   "id": "31f47cd44ef8d66e",
   "outputs": [
    {
     "data": {
      "text/plain": [
       "    age  name_Alan  name_Jack  name_Peter  name_nan  room_A1  room_B1  \\\n",
       "0   NaN          1          0           0         0        1        0   \n",
       "1  18.0          0          0           1         0        0        1   \n",
       "2  30.0          0          1           0         0        0        0   \n",
       "\n",
       "   room_nan  \n",
       "0         0  \n",
       "1         0  \n",
       "2         1  "
      ],
      "text/html": [
       "<div>\n",
       "<style scoped>\n",
       "    .dataframe tbody tr th:only-of-type {\n",
       "        vertical-align: middle;\n",
       "    }\n",
       "\n",
       "    .dataframe tbody tr th {\n",
       "        vertical-align: top;\n",
       "    }\n",
       "\n",
       "    .dataframe thead th {\n",
       "        text-align: right;\n",
       "    }\n",
       "</style>\n",
       "<table border=\"1\" class=\"dataframe\">\n",
       "  <thead>\n",
       "    <tr style=\"text-align: right;\">\n",
       "      <th></th>\n",
       "      <th>age</th>\n",
       "      <th>name_Alan</th>\n",
       "      <th>name_Jack</th>\n",
       "      <th>name_Peter</th>\n",
       "      <th>name_nan</th>\n",
       "      <th>room_A1</th>\n",
       "      <th>room_B1</th>\n",
       "      <th>room_nan</th>\n",
       "    </tr>\n",
       "  </thead>\n",
       "  <tbody>\n",
       "    <tr>\n",
       "      <th>0</th>\n",
       "      <td>NaN</td>\n",
       "      <td>1</td>\n",
       "      <td>0</td>\n",
       "      <td>0</td>\n",
       "      <td>0</td>\n",
       "      <td>1</td>\n",
       "      <td>0</td>\n",
       "      <td>0</td>\n",
       "    </tr>\n",
       "    <tr>\n",
       "      <th>1</th>\n",
       "      <td>18.0</td>\n",
       "      <td>0</td>\n",
       "      <td>0</td>\n",
       "      <td>1</td>\n",
       "      <td>0</td>\n",
       "      <td>0</td>\n",
       "      <td>1</td>\n",
       "      <td>0</td>\n",
       "    </tr>\n",
       "    <tr>\n",
       "      <th>2</th>\n",
       "      <td>30.0</td>\n",
       "      <td>0</td>\n",
       "      <td>1</td>\n",
       "      <td>0</td>\n",
       "      <td>0</td>\n",
       "      <td>0</td>\n",
       "      <td>0</td>\n",
       "      <td>1</td>\n",
       "    </tr>\n",
       "  </tbody>\n",
       "</table>\n",
       "</div>"
      ]
     },
     "execution_count": 65,
     "metadata": {},
     "output_type": "execute_result"
    }
   ],
   "execution_count": 65
  },
  {
   "metadata": {
    "ExecuteTime": {
     "end_time": "2025-05-30T02:28:26.004794Z",
     "start_time": "2025-05-30T02:28:25.874497Z"
    }
   },
   "cell_type": "code",
   "source": [
    "dummies=dummies.fillna(0)\n",
    "torch.tensor(dummies.values)"
   ],
   "id": "114f3c29eab07e6f",
   "outputs": [
    {
     "data": {
      "text/plain": [
       "tensor([[ 0.,  1.,  0.,  0.,  0.,  1.,  0.,  0.],\n",
       "        [18.,  0.,  0.,  1.,  0.,  0.,  1.,  0.],\n",
       "        [30.,  0.,  1.,  0.,  0.,  0.,  0.,  1.]], dtype=torch.float64)"
      ]
     },
     "execution_count": 67,
     "metadata": {},
     "output_type": "execute_result"
    }
   ],
   "execution_count": 67
  },
  {
   "metadata": {},
   "cell_type": "code",
   "outputs": [],
   "execution_count": null,
   "source": "",
   "id": "411c842fee52cbd6"
  }
 ],
 "metadata": {
  "kernelspec": {
   "display_name": "Python 3",
   "language": "python",
   "name": "python3"
  },
  "language_info": {
   "codemirror_mode": {
    "name": "ipython",
    "version": 2
   },
   "file_extension": ".py",
   "mimetype": "text/x-python",
   "name": "python",
   "nbconvert_exporter": "python",
   "pygments_lexer": "ipython2",
   "version": "2.7.6"
  }
 },
 "nbformat": 4,
 "nbformat_minor": 5
}
