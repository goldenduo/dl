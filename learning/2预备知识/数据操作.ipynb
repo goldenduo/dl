{
 "cells": [
  {
   "cell_type": "code",
   "id": "initial_id",
   "metadata": {
    "collapsed": true,
    "ExecuteTime": {
     "end_time": "2025-05-29T02:28:14.263538Z",
     "start_time": "2025-05-29T02:28:14.260904Z"
    }
   },
   "source": "import torch",
   "outputs": [],
   "execution_count": 71
  },
  {
   "metadata": {
    "ExecuteTime": {
     "end_time": "2025-05-29T02:28:14.275317Z",
     "start_time": "2025-05-29T02:28:14.270794Z"
    }
   },
   "cell_type": "code",
   "source": [
    "x=torch.arange(12)\n",
    "x"
   ],
   "id": "46e50632495b84d4",
   "outputs": [
    {
     "data": {
      "text/plain": [
       "tensor([ 0,  1,  2,  3,  4,  5,  6,  7,  8,  9, 10, 11])"
      ]
     },
     "execution_count": 72,
     "metadata": {},
     "output_type": "execute_result"
    }
   ],
   "execution_count": 72
  },
  {
   "metadata": {
    "ExecuteTime": {
     "end_time": "2025-05-29T02:28:14.294390Z",
     "start_time": "2025-05-29T02:28:14.290970Z"
    }
   },
   "cell_type": "code",
   "source": "x.shape",
   "id": "3fb0eb7189b64ee0",
   "outputs": [
    {
     "data": {
      "text/plain": [
       "torch.Size([12])"
      ]
     },
     "execution_count": 73,
     "metadata": {},
     "output_type": "execute_result"
    }
   ],
   "execution_count": 73
  },
  {
   "metadata": {
    "ExecuteTime": {
     "end_time": "2025-05-29T02:28:14.324803Z",
     "start_time": "2025-05-29T02:28:14.321529Z"
    }
   },
   "cell_type": "code",
   "source": "x.numel()",
   "id": "d397a281adede8bb",
   "outputs": [
    {
     "data": {
      "text/plain": [
       "12"
      ]
     },
     "execution_count": 74,
     "metadata": {},
     "output_type": "execute_result"
    }
   ],
   "execution_count": 74
  },
  {
   "metadata": {
    "ExecuteTime": {
     "end_time": "2025-05-29T02:28:14.345940Z",
     "start_time": "2025-05-29T02:28:14.341728Z"
    }
   },
   "cell_type": "code",
   "source": [
    "# 为什么「行」在前？\n",
    "# Python 和 NumPy 遵循的约定是：数组的形状（shape）是 (行数, 列数)。\n",
    "#\n",
    "# 也就是 (高度，高度方向的元素数量, 宽度方向的元素数量)。\n",
    "#\n",
    "# 这和数学中的矩阵一致 —— 一个 𝑚×𝑛 的矩阵有 m 行、n 列。   高维<-----低维\n",
    "y=x.reshape(3,4)\n",
    "x"
   ],
   "id": "92b39ca2bad97e08",
   "outputs": [
    {
     "data": {
      "text/plain": [
       "tensor([ 0,  1,  2,  3,  4,  5,  6,  7,  8,  9, 10, 11])"
      ]
     },
     "execution_count": 75,
     "metadata": {},
     "output_type": "execute_result"
    }
   ],
   "execution_count": 75
  },
  {
   "metadata": {
    "ExecuteTime": {
     "end_time": "2025-05-29T02:28:14.371541Z",
     "start_time": "2025-05-29T02:28:14.364310Z"
    }
   },
   "cell_type": "code",
   "source": [
    "y[:]=1\n",
    "y"
   ],
   "id": "f8a14fa187ad61c2",
   "outputs": [
    {
     "data": {
      "text/plain": [
       "tensor([[1, 1, 1, 1],\n",
       "        [1, 1, 1, 1],\n",
       "        [1, 1, 1, 1]])"
      ]
     },
     "execution_count": 76,
     "metadata": {},
     "output_type": "execute_result"
    }
   ],
   "execution_count": 76
  },
  {
   "metadata": {
    "ExecuteTime": {
     "end_time": "2025-05-29T02:28:14.423502Z",
     "start_time": "2025-05-29T02:28:14.419017Z"
    }
   },
   "cell_type": "code",
   "source": "x",
   "id": "8057dd639cc5bfbb",
   "outputs": [
    {
     "data": {
      "text/plain": [
       "tensor([1, 1, 1, 1, 1, 1, 1, 1, 1, 1, 1, 1])"
      ]
     },
     "execution_count": 77,
     "metadata": {},
     "output_type": "execute_result"
    }
   ],
   "execution_count": 77
  },
  {
   "metadata": {
    "ExecuteTime": {
     "end_time": "2025-05-29T02:28:14.474711Z",
     "start_time": "2025-05-29T02:28:14.470290Z"
    }
   },
   "cell_type": "code",
   "source": "x.reshape(2,2,3)",
   "id": "6aba0c43b7ec5317",
   "outputs": [
    {
     "data": {
      "text/plain": [
       "tensor([[[1, 1, 1],\n",
       "         [1, 1, 1]],\n",
       "\n",
       "        [[1, 1, 1],\n",
       "         [1, 1, 1]]])"
      ]
     },
     "execution_count": 78,
     "metadata": {},
     "output_type": "execute_result"
    }
   ],
   "execution_count": 78
  },
  {
   "metadata": {
    "ExecuteTime": {
     "end_time": "2025-05-29T02:28:14.510366Z",
     "start_time": "2025-05-29T02:28:14.505902Z"
    }
   },
   "cell_type": "code",
   "source": "torch.ones((2,2,3),dtype=torch.int)",
   "id": "4ac32ea528d80b92",
   "outputs": [
    {
     "data": {
      "text/plain": [
       "tensor([[[1, 1, 1],\n",
       "         [1, 1, 1]],\n",
       "\n",
       "        [[1, 1, 1],\n",
       "         [1, 1, 1]]], dtype=torch.int32)"
      ]
     },
     "execution_count": 79,
     "metadata": {},
     "output_type": "execute_result"
    }
   ],
   "execution_count": 79
  },
  {
   "metadata": {
    "ExecuteTime": {
     "end_time": "2025-05-29T02:28:14.547400Z",
     "start_time": "2025-05-29T02:28:14.541536Z"
    }
   },
   "cell_type": "code",
   "source": "torch.zeros((1,2))",
   "id": "6a268ad64f9487c8",
   "outputs": [
    {
     "data": {
      "text/plain": [
       "tensor([[0., 0.]])"
      ]
     },
     "execution_count": 80,
     "metadata": {},
     "output_type": "execute_result"
    }
   ],
   "execution_count": 80
  },
  {
   "metadata": {
    "ExecuteTime": {
     "end_time": "2025-05-29T02:28:14.605962Z",
     "start_time": "2025-05-29T02:28:14.601601Z"
    }
   },
   "cell_type": "code",
   "source": "torch.tensor([[1,2,3],[1,3,3]])",
   "id": "79ffdf5dedac18d3",
   "outputs": [
    {
     "data": {
      "text/plain": [
       "tensor([[1, 2, 3],\n",
       "        [1, 3, 3]])"
      ]
     },
     "execution_count": 81,
     "metadata": {},
     "output_type": "execute_result"
    }
   ],
   "execution_count": 81
  },
  {
   "metadata": {
    "ExecuteTime": {
     "end_time": "2025-05-29T02:28:14.697794Z",
     "start_time": "2025-05-29T02:28:14.688602Z"
    }
   },
   "cell_type": "code",
   "source": "torch.randn((2,3))",
   "id": "a60053543797d9c8",
   "outputs": [
    {
     "data": {
      "text/plain": [
       "tensor([[-0.4820,  1.7451,  0.3943],\n",
       "        [ 0.4023,  0.8529,  1.0891]])"
      ]
     },
     "execution_count": 82,
     "metadata": {},
     "output_type": "execute_result"
    }
   ],
   "execution_count": 82
  },
  {
   "metadata": {
    "ExecuteTime": {
     "end_time": "2025-05-29T02:28:14.784458Z",
     "start_time": "2025-05-29T02:28:14.780736Z"
    }
   },
   "cell_type": "code",
   "source": "torch.randn(2,3)",
   "id": "7e04f03cba85538a",
   "outputs": [
    {
     "data": {
      "text/plain": [
       "tensor([[-1.4056, -0.8135,  0.4870],\n",
       "        [ 0.5893, -0.2498,  0.7884]])"
      ]
     },
     "execution_count": 83,
     "metadata": {},
     "output_type": "execute_result"
    }
   ],
   "execution_count": 83
  },
  {
   "metadata": {
    "ExecuteTime": {
     "end_time": "2025-05-29T02:28:14.870756Z",
     "start_time": "2025-05-29T02:28:14.862330Z"
    }
   },
   "cell_type": "code",
   "source": [
    "x=torch.tensor([1,2,3])\n",
    "y=torch.tensor([4,5,6])\n",
    "x-y,x+y,x*y,x/y,x**y"
   ],
   "id": "a4db9b66b4b3aa10",
   "outputs": [
    {
     "data": {
      "text/plain": [
       "(tensor([-3, -3, -3]),\n",
       " tensor([5, 7, 9]),\n",
       " tensor([ 4, 10, 18]),\n",
       " tensor([0.2500, 0.4000, 0.5000]),\n",
       " tensor([  1,  32, 729]))"
      ]
     },
     "execution_count": 84,
     "metadata": {},
     "output_type": "execute_result"
    }
   ],
   "execution_count": 84
  },
  {
   "metadata": {
    "ExecuteTime": {
     "end_time": "2025-05-29T02:28:14.940673Z",
     "start_time": "2025-05-29T02:28:14.931102Z"
    }
   },
   "cell_type": "code",
   "source": [
    "x=torch.arange(12).reshape(2,6)\n",
    "torch.exp(x)"
   ],
   "id": "787f4714d24b9886",
   "outputs": [
    {
     "data": {
      "text/plain": [
       "tensor([[1.0000e+00, 2.7183e+00, 7.3891e+00, 2.0086e+01, 5.4598e+01, 1.4841e+02],\n",
       "        [4.0343e+02, 1.0966e+03, 2.9810e+03, 8.1031e+03, 2.2026e+04, 5.9874e+04]])"
      ]
     },
     "execution_count": 85,
     "metadata": {},
     "output_type": "execute_result"
    }
   ],
   "execution_count": 85
  },
  {
   "metadata": {
    "ExecuteTime": {
     "end_time": "2025-05-29T02:28:15.033210Z",
     "start_time": "2025-05-29T02:28:15.021350Z"
    }
   },
   "cell_type": "code",
   "source": [
    "y=torch.arange(12,24).reshape((2,6))\n",
    "torch.cat((x,y),dim=0),torch.cat((x,y),dim=1)"
   ],
   "id": "e131781001cd2186",
   "outputs": [
    {
     "data": {
      "text/plain": [
       "(tensor([[ 0,  1,  2,  3,  4,  5],\n",
       "         [ 6,  7,  8,  9, 10, 11],\n",
       "         [12, 13, 14, 15, 16, 17],\n",
       "         [18, 19, 20, 21, 22, 23]]),\n",
       " tensor([[ 0,  1,  2,  3,  4,  5, 12, 13, 14, 15, 16, 17],\n",
       "         [ 6,  7,  8,  9, 10, 11, 18, 19, 20, 21, 22, 23]]))"
      ]
     },
     "execution_count": 86,
     "metadata": {},
     "output_type": "execute_result"
    }
   ],
   "execution_count": 86
  },
  {
   "metadata": {
    "ExecuteTime": {
     "end_time": "2025-05-29T02:28:15.089407Z",
     "start_time": "2025-05-29T02:28:15.085323Z"
    }
   },
   "cell_type": "code",
   "source": "x==y",
   "id": "83ccdd7decc06412",
   "outputs": [
    {
     "data": {
      "text/plain": [
       "tensor([[False, False, False, False, False, False],\n",
       "        [False, False, False, False, False, False]])"
      ]
     },
     "execution_count": 87,
     "metadata": {},
     "output_type": "execute_result"
    }
   ],
   "execution_count": 87
  },
  {
   "metadata": {
    "ExecuteTime": {
     "end_time": "2025-05-29T02:28:15.162313Z",
     "start_time": "2025-05-29T02:28:15.157721Z"
    }
   },
   "cell_type": "code",
   "source": "x.sum(),y.sum()",
   "id": "4ffcae0331d0e75e",
   "outputs": [
    {
     "data": {
      "text/plain": [
       "(tensor(66), tensor(210))"
      ]
     },
     "execution_count": 88,
     "metadata": {},
     "output_type": "execute_result"
    }
   ],
   "execution_count": 88
  },
  {
   "metadata": {
    "ExecuteTime": {
     "end_time": "2025-05-29T02:28:15.235713Z",
     "start_time": "2025-05-29T02:28:15.231429Z"
    }
   },
   "cell_type": "code",
   "source": "torch.cat((x,y),dim=0).numel()",
   "id": "eb931e5c412b6040",
   "outputs": [
    {
     "data": {
      "text/plain": [
       "24"
      ]
     },
     "execution_count": 89,
     "metadata": {},
     "output_type": "execute_result"
    }
   ],
   "execution_count": 89
  },
  {
   "metadata": {
    "ExecuteTime": {
     "end_time": "2025-05-29T02:28:15.268133Z",
     "start_time": "2025-05-29T02:28:15.263266Z"
    }
   },
   "cell_type": "code",
   "source": [
    "x=torch.arange(12).reshape(2,6)\n",
    "y=torch.randn(2,6)\n",
    "x,y,x>y"
   ],
   "id": "71c5a703b61fadc",
   "outputs": [
    {
     "data": {
      "text/plain": [
       "(tensor([[ 0,  1,  2,  3,  4,  5],\n",
       "         [ 6,  7,  8,  9, 10, 11]]),\n",
       " tensor([[ 1.1217,  1.0190,  0.6886, -0.2186,  1.4548,  0.2306],\n",
       "         [-0.2670, -1.5979,  1.2440,  1.1305,  0.4285, -0.3943]]),\n",
       " tensor([[False, False,  True,  True,  True,  True],\n",
       "         [ True,  True,  True,  True,  True,  True]]))"
      ]
     },
     "execution_count": 90,
     "metadata": {},
     "output_type": "execute_result"
    }
   ],
   "execution_count": 90
  },
  {
   "metadata": {
    "ExecuteTime": {
     "end_time": "2025-05-29T02:28:15.300083Z",
     "start_time": "2025-05-29T02:28:15.295272Z"
    }
   },
   "cell_type": "code",
   "source": "x>y",
   "id": "af419de39a9d3b5f",
   "outputs": [
    {
     "data": {
      "text/plain": [
       "tensor([[False, False,  True,  True,  True,  True],\n",
       "        [ True,  True,  True,  True,  True,  True]])"
      ]
     },
     "execution_count": 91,
     "metadata": {},
     "output_type": "execute_result"
    }
   ],
   "execution_count": 91
  },
  {
   "metadata": {
    "ExecuteTime": {
     "end_time": "2025-05-29T02:28:15.447398Z",
     "start_time": "2025-05-29T02:28:15.443269Z"
    }
   },
   "cell_type": "code",
   "source": [
    "x=torch.arange(12)\n",
    "y=torch.arange(12).reshape(12,1)\n",
    "x+y"
   ],
   "id": "ff764465c80c45c5",
   "outputs": [
    {
     "data": {
      "text/plain": [
       "tensor([[ 0,  1,  2,  3,  4,  5,  6,  7,  8,  9, 10, 11],\n",
       "        [ 1,  2,  3,  4,  5,  6,  7,  8,  9, 10, 11, 12],\n",
       "        [ 2,  3,  4,  5,  6,  7,  8,  9, 10, 11, 12, 13],\n",
       "        [ 3,  4,  5,  6,  7,  8,  9, 10, 11, 12, 13, 14],\n",
       "        [ 4,  5,  6,  7,  8,  9, 10, 11, 12, 13, 14, 15],\n",
       "        [ 5,  6,  7,  8,  9, 10, 11, 12, 13, 14, 15, 16],\n",
       "        [ 6,  7,  8,  9, 10, 11, 12, 13, 14, 15, 16, 17],\n",
       "        [ 7,  8,  9, 10, 11, 12, 13, 14, 15, 16, 17, 18],\n",
       "        [ 8,  9, 10, 11, 12, 13, 14, 15, 16, 17, 18, 19],\n",
       "        [ 9, 10, 11, 12, 13, 14, 15, 16, 17, 18, 19, 20],\n",
       "        [10, 11, 12, 13, 14, 15, 16, 17, 18, 19, 20, 21],\n",
       "        [11, 12, 13, 14, 15, 16, 17, 18, 19, 20, 21, 22]])"
      ]
     },
     "execution_count": 92,
     "metadata": {},
     "output_type": "execute_result"
    }
   ],
   "execution_count": 92
  },
  {
   "metadata": {
    "ExecuteTime": {
     "end_time": "2025-05-29T02:28:15.530209Z",
     "start_time": "2025-05-29T02:28:15.525645Z"
    }
   },
   "cell_type": "code",
   "source": [
    "z = x + y\n",
    "type(z)\n",
    "z[0::2]"
   ],
   "id": "444db50f6446b0c8",
   "outputs": [
    {
     "data": {
      "text/plain": [
       "tensor([[ 0,  1,  2,  3,  4,  5,  6,  7,  8,  9, 10, 11],\n",
       "        [ 2,  3,  4,  5,  6,  7,  8,  9, 10, 11, 12, 13],\n",
       "        [ 4,  5,  6,  7,  8,  9, 10, 11, 12, 13, 14, 15],\n",
       "        [ 6,  7,  8,  9, 10, 11, 12, 13, 14, 15, 16, 17],\n",
       "        [ 8,  9, 10, 11, 12, 13, 14, 15, 16, 17, 18, 19],\n",
       "        [10, 11, 12, 13, 14, 15, 16, 17, 18, 19, 20, 21]])"
      ]
     },
     "execution_count": 93,
     "metadata": {},
     "output_type": "execute_result"
    }
   ],
   "execution_count": 93
  },
  {
   "metadata": {
    "ExecuteTime": {
     "end_time": "2025-05-29T02:28:15.617700Z",
     "start_time": "2025-05-29T02:28:15.614361Z"
    }
   },
   "cell_type": "code",
   "source": [
    "print(id(z))\n",
    "z[:]=torch.arange(12*12).reshape(12,12)\n",
    "print(id(z))"
   ],
   "id": "422188561a09ff01",
   "outputs": [
    {
     "name": "stdout",
     "output_type": "stream",
     "text": [
      "4638579904\n",
      "4638579904\n"
     ]
    }
   ],
   "execution_count": 94
  },
  {
   "metadata": {
    "ExecuteTime": {
     "end_time": "2025-05-29T02:28:15.723890Z",
     "start_time": "2025-05-29T02:28:15.720473Z"
    }
   },
   "cell_type": "code",
   "source": "type([1,2])",
   "id": "b1ba4c8d9fee796c",
   "outputs": [
    {
     "data": {
      "text/plain": [
       "list"
      ]
     },
     "execution_count": 95,
     "metadata": {},
     "output_type": "execute_result"
    }
   ],
   "execution_count": 95
  },
  {
   "metadata": {
    "ExecuteTime": {
     "end_time": "2025-05-29T02:37:39.663162Z",
     "start_time": "2025-05-29T02:37:39.657024Z"
    }
   },
   "cell_type": "code",
   "source": [
    "x=torch.arange(12).reshape(1,12,1)\n",
    "y=torch.ones(4).reshape(2,1,2)\n",
    "x,y,x+y"
   ],
   "id": "42a81faaaf185bfa",
   "outputs": [
    {
     "data": {
      "text/plain": [
       "(tensor([[[ 0],\n",
       "          [ 1],\n",
       "          [ 2],\n",
       "          [ 3],\n",
       "          [ 4],\n",
       "          [ 5],\n",
       "          [ 6],\n",
       "          [ 7],\n",
       "          [ 8],\n",
       "          [ 9],\n",
       "          [10],\n",
       "          [11]]]),\n",
       " tensor([[[1., 1.]],\n",
       " \n",
       "         [[1., 1.]]]),\n",
       " tensor([[[ 1.,  1.],\n",
       "          [ 2.,  2.],\n",
       "          [ 3.,  3.],\n",
       "          [ 4.,  4.],\n",
       "          [ 5.,  5.],\n",
       "          [ 6.,  6.],\n",
       "          [ 7.,  7.],\n",
       "          [ 8.,  8.],\n",
       "          [ 9.,  9.],\n",
       "          [10., 10.],\n",
       "          [11., 11.],\n",
       "          [12., 12.]],\n",
       " \n",
       "         [[ 1.,  1.],\n",
       "          [ 2.,  2.],\n",
       "          [ 3.,  3.],\n",
       "          [ 4.,  4.],\n",
       "          [ 5.,  5.],\n",
       "          [ 6.,  6.],\n",
       "          [ 7.,  7.],\n",
       "          [ 8.,  8.],\n",
       "          [ 9.,  9.],\n",
       "          [10., 10.],\n",
       "          [11., 11.],\n",
       "          [12., 12.]]]))"
      ]
     },
     "execution_count": 103,
     "metadata": {},
     "output_type": "execute_result"
    }
   ],
   "execution_count": 103
  }
 ],
 "metadata": {
  "kernelspec": {
   "display_name": "Python 3",
   "language": "python",
   "name": "python3"
  },
  "language_info": {
   "codemirror_mode": {
    "name": "ipython",
    "version": 2
   },
   "file_extension": ".py",
   "mimetype": "text/x-python",
   "name": "python",
   "nbconvert_exporter": "python",
   "pygments_lexer": "ipython2",
   "version": "2.7.6"
  }
 },
 "nbformat": 4,
 "nbformat_minor": 5
}
