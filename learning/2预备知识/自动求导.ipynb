{
 "cells": [
  {
   "cell_type": "code",
   "id": "initial_id",
   "metadata": {
    "collapsed": true,
    "ExecuteTime": {
     "end_time": "2025-06-06T08:00:04.096818Z",
     "start_time": "2025-06-06T08:00:04.090319Z"
    }
   },
   "source": [
    "import torch\n",
    "x=torch.arange(0,10,dtype=torch.float)\n",
    "x.requires_grad_(True)\n",
    "y=2*torch.dot(x,x)\n",
    "y.backward()\n",
    "x.grad"
   ],
   "outputs": [
    {
     "data": {
      "text/plain": [
       "tensor([ 0.,  4.,  8., 12., 16., 20., 24., 28., 32., 36.])"
      ]
     },
     "execution_count": 6,
     "metadata": {},
     "output_type": "execute_result"
    }
   ],
   "execution_count": 6
  },
  {
   "metadata": {
    "ExecuteTime": {
     "end_time": "2025-06-06T08:19:24.360776Z",
     "start_time": "2025-06-06T08:19:24.355885Z"
    }
   },
   "cell_type": "code",
   "source": [
    "import torch\n",
    "x=torch.arange(10)\n",
    "y= len(x)\n",
    "x,y,torch.dot(x,x)"
   ],
   "id": "e328989b29334521",
   "outputs": [
    {
     "data": {
      "text/plain": [
       "(tensor([0, 1, 2, 3, 4, 5, 6, 7, 8, 9]), 10, tensor(285))"
      ]
     },
     "execution_count": 14,
     "metadata": {},
     "output_type": "execute_result"
    }
   ],
   "execution_count": 14
  },
  {
   "metadata": {
    "ExecuteTime": {
     "end_time": "2025-06-09T02:20:35.687668Z",
     "start_time": "2025-06-09T02:20:35.683558Z"
    }
   },
   "cell_type": "code",
   "source": [
    "import torch\n",
    "x=torch.arange(10.0)\n",
    "x.requires_grad_(True)\n",
    "y=torch.dot(x,x*x)\n",
    "y.backward()\n",
    "x.grad"
   ],
   "id": "4701338f070179b9",
   "outputs": [
    {
     "data": {
      "text/plain": [
       "tensor([  0.,   3.,  12.,  27.,  48.,  75., 108., 147., 192., 243.])"
      ]
     },
     "execution_count": 45,
     "metadata": {},
     "output_type": "execute_result"
    }
   ],
   "execution_count": 45
  },
  {
   "metadata": {
    "ExecuteTime": {
     "end_time": "2025-06-10T06:20:20.864515Z",
     "start_time": "2025-06-10T06:20:20.824562Z"
    }
   },
   "cell_type": "code",
   "source": "dir(torch.Use)",
   "id": "23bf5328b8318115",
   "outputs": [
    {
     "data": {
      "text/plain": [
       "['__class__',\n",
       " '__delattr__',\n",
       " '__dir__',\n",
       " '__doc__',\n",
       " '__eq__',\n",
       " '__format__',\n",
       " '__ge__',\n",
       " '__getattribute__',\n",
       " '__gt__',\n",
       " '__hash__',\n",
       " '__init__',\n",
       " '__init_subclass__',\n",
       " '__le__',\n",
       " '__lt__',\n",
       " '__module__',\n",
       " '__ne__',\n",
       " '__new__',\n",
       " '__reduce__',\n",
       " '__reduce_ex__',\n",
       " '__repr__',\n",
       " '__setattr__',\n",
       " '__sizeof__',\n",
       " '__str__',\n",
       " '__subclasshook__',\n",
       " 'isAfter',\n",
       " 'offset',\n",
       " 'user']"
      ]
     },
     "execution_count": 47,
     "metadata": {},
     "output_type": "execute_result"
    }
   ],
   "execution_count": 47
  },
  {
   "metadata": {},
   "cell_type": "code",
   "outputs": [],
   "execution_count": null,
   "source": "",
   "id": "2098781a8e9fabd3"
  }
 ],
 "metadata": {
  "kernelspec": {
   "display_name": "Python 3",
   "language": "python",
   "name": "python3"
  },
  "language_info": {
   "codemirror_mode": {
    "name": "ipython",
    "version": 2
   },
   "file_extension": ".py",
   "mimetype": "text/x-python",
   "name": "python",
   "nbconvert_exporter": "python",
   "pygments_lexer": "ipython2",
   "version": "2.7.6"
  }
 },
 "nbformat": 4,
 "nbformat_minor": 5
}
