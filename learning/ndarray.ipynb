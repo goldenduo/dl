{
 "cells": [
  {
   "cell_type": "code",
   "id": "initial_id",
   "metadata": {
    "collapsed": true,
    "ExecuteTime": {
     "end_time": "2025-05-19T09:20:11.098780Z",
     "start_time": "2025-05-19T09:20:11.096016Z"
    }
   },
   "source": "import torch",
   "outputs": [],
   "execution_count": 44
  },
  {
   "metadata": {
    "ExecuteTime": {
     "end_time": "2025-05-19T09:20:11.117926Z",
     "start_time": "2025-05-19T09:20:11.113318Z"
    }
   },
   "cell_type": "code",
   "source": [
    "x=torch.arange(12)\n",
    "x"
   ],
   "id": "46e50632495b84d4",
   "outputs": [
    {
     "data": {
      "text/plain": [
       "tensor([ 0,  1,  2,  3,  4,  5,  6,  7,  8,  9, 10, 11])"
      ]
     },
     "execution_count": 45,
     "metadata": {},
     "output_type": "execute_result"
    }
   ],
   "execution_count": 45
  },
  {
   "metadata": {
    "ExecuteTime": {
     "end_time": "2025-05-19T09:20:11.135891Z",
     "start_time": "2025-05-19T09:20:11.132329Z"
    }
   },
   "cell_type": "code",
   "source": "x.shape",
   "id": "3fb0eb7189b64ee0",
   "outputs": [
    {
     "data": {
      "text/plain": [
       "torch.Size([12])"
      ]
     },
     "execution_count": 46,
     "metadata": {},
     "output_type": "execute_result"
    }
   ],
   "execution_count": 46
  },
  {
   "metadata": {
    "ExecuteTime": {
     "end_time": "2025-05-19T09:20:11.155757Z",
     "start_time": "2025-05-19T09:20:11.152419Z"
    }
   },
   "cell_type": "code",
   "source": "x.numel()",
   "id": "d397a281adede8bb",
   "outputs": [
    {
     "data": {
      "text/plain": [
       "12"
      ]
     },
     "execution_count": 47,
     "metadata": {},
     "output_type": "execute_result"
    }
   ],
   "execution_count": 47
  },
  {
   "metadata": {
    "ExecuteTime": {
     "end_time": "2025-05-19T09:20:11.179407Z",
     "start_time": "2025-05-19T09:20:11.175308Z"
    }
   },
   "cell_type": "code",
   "source": [
    "# 为什么「行」在前？\n",
    "# Python 和 NumPy 遵循的约定是：数组的形状（shape）是 (行数, 列数)。\n",
    "#\n",
    "# 也就是 (高度，高度方向的元素数量, 宽度方向的元素数量)。\n",
    "#\n",
    "# 这和数学中的矩阵一致 —— 一个 𝑚×𝑛 的矩阵有 m 行、n 列。   高维<-----低维\n",
    "x.reshape(3,4)"
   ],
   "id": "92b39ca2bad97e08",
   "outputs": [
    {
     "data": {
      "text/plain": [
       "tensor([[ 0,  1,  2,  3],\n",
       "        [ 4,  5,  6,  7],\n",
       "        [ 8,  9, 10, 11]])"
      ]
     },
     "execution_count": 48,
     "metadata": {},
     "output_type": "execute_result"
    }
   ],
   "execution_count": 48
  },
  {
   "metadata": {
    "ExecuteTime": {
     "end_time": "2025-05-19T09:20:11.234369Z",
     "start_time": "2025-05-19T09:20:11.229836Z"
    }
   },
   "cell_type": "code",
   "source": "x.reshape(2,2,3)",
   "id": "6aba0c43b7ec5317",
   "outputs": [
    {
     "data": {
      "text/plain": [
       "tensor([[[ 0,  1,  2],\n",
       "         [ 3,  4,  5]],\n",
       "\n",
       "        [[ 6,  7,  8],\n",
       "         [ 9, 10, 11]]])"
      ]
     },
     "execution_count": 49,
     "metadata": {},
     "output_type": "execute_result"
    }
   ],
   "execution_count": 49
  },
  {
   "metadata": {
    "ExecuteTime": {
     "end_time": "2025-05-19T09:20:11.293905Z",
     "start_time": "2025-05-19T09:20:11.289874Z"
    }
   },
   "cell_type": "code",
   "source": "torch.ones((2,2,3),dtype=torch.int)",
   "id": "4ac32ea528d80b92",
   "outputs": [
    {
     "data": {
      "text/plain": [
       "tensor([[[1, 1, 1],\n",
       "         [1, 1, 1]],\n",
       "\n",
       "        [[1, 1, 1],\n",
       "         [1, 1, 1]]], dtype=torch.int32)"
      ]
     },
     "execution_count": 50,
     "metadata": {},
     "output_type": "execute_result"
    }
   ],
   "execution_count": 50
  },
  {
   "metadata": {
    "ExecuteTime": {
     "end_time": "2025-05-19T09:20:11.312974Z",
     "start_time": "2025-05-19T09:20:11.308885Z"
    }
   },
   "cell_type": "code",
   "source": "torch.zeros((1,2))",
   "id": "6a268ad64f9487c8",
   "outputs": [
    {
     "data": {
      "text/plain": [
       "tensor([[0., 0.]])"
      ]
     },
     "execution_count": 51,
     "metadata": {},
     "output_type": "execute_result"
    }
   ],
   "execution_count": 51
  },
  {
   "metadata": {
    "ExecuteTime": {
     "end_time": "2025-05-19T09:20:11.372015Z",
     "start_time": "2025-05-19T09:20:11.367857Z"
    }
   },
   "cell_type": "code",
   "source": "torch.tensor([[1,2,3],[1,3,3]])",
   "id": "79ffdf5dedac18d3",
   "outputs": [
    {
     "data": {
      "text/plain": [
       "tensor([[1, 2, 3],\n",
       "        [1, 3, 3]])"
      ]
     },
     "execution_count": 52,
     "metadata": {},
     "output_type": "execute_result"
    }
   ],
   "execution_count": 52
  },
  {
   "metadata": {
    "ExecuteTime": {
     "end_time": "2025-05-19T09:20:11.463888Z",
     "start_time": "2025-05-19T09:20:11.458671Z"
    }
   },
   "cell_type": "code",
   "source": "torch.randn((2,3))",
   "id": "a60053543797d9c8",
   "outputs": [
    {
     "data": {
      "text/plain": [
       "tensor([[-0.2022, -1.1585,  1.5754],\n",
       "        [-0.5123, -1.0920,  0.8043]])"
      ]
     },
     "execution_count": 53,
     "metadata": {},
     "output_type": "execute_result"
    }
   ],
   "execution_count": 53
  },
  {
   "metadata": {
    "ExecuteTime": {
     "end_time": "2025-05-19T09:20:11.556754Z",
     "start_time": "2025-05-19T09:20:11.551812Z"
    }
   },
   "cell_type": "code",
   "source": "torch.randn(2,3)",
   "id": "7e04f03cba85538a",
   "outputs": [
    {
     "data": {
      "text/plain": [
       "tensor([[ 1.0029, -1.3379, -0.6250],\n",
       "        [ 0.6278, -0.5793, -0.8176]])"
      ]
     },
     "execution_count": 54,
     "metadata": {},
     "output_type": "execute_result"
    }
   ],
   "execution_count": 54
  },
  {
   "metadata": {
    "ExecuteTime": {
     "end_time": "2025-05-19T09:20:11.719302Z",
     "start_time": "2025-05-19T09:20:11.714105Z"
    }
   },
   "cell_type": "code",
   "source": [
    "x=torch.tensor([1,2,3])\n",
    "y=torch.tensor([4,5,6])\n",
    "x-y,x+y,x*y,x/y,x**y"
   ],
   "id": "a4db9b66b4b3aa10",
   "outputs": [
    {
     "data": {
      "text/plain": [
       "(tensor([-3, -3, -3]),\n",
       " tensor([5, 7, 9]),\n",
       " tensor([ 4, 10, 18]),\n",
       " tensor([0.2500, 0.4000, 0.5000]),\n",
       " tensor([  1,  32, 729]))"
      ]
     },
     "execution_count": 55,
     "metadata": {},
     "output_type": "execute_result"
    }
   ],
   "execution_count": 55
  },
  {
   "metadata": {
    "ExecuteTime": {
     "end_time": "2025-05-19T09:20:11.817123Z",
     "start_time": "2025-05-19T09:20:11.812201Z"
    }
   },
   "cell_type": "code",
   "source": [
    "x=torch.arange(12).reshape(2,6)\n",
    "torch.exp(x)"
   ],
   "id": "787f4714d24b9886",
   "outputs": [
    {
     "data": {
      "text/plain": [
       "tensor([[1.0000e+00, 2.7183e+00, 7.3891e+00, 2.0086e+01, 5.4598e+01, 1.4841e+02],\n",
       "        [4.0343e+02, 1.0966e+03, 2.9810e+03, 8.1031e+03, 2.2026e+04, 5.9874e+04]])"
      ]
     },
     "execution_count": 56,
     "metadata": {},
     "output_type": "execute_result"
    }
   ],
   "execution_count": 56
  },
  {
   "metadata": {
    "ExecuteTime": {
     "end_time": "2025-05-19T09:20:11.895782Z",
     "start_time": "2025-05-19T09:20:11.887545Z"
    }
   },
   "cell_type": "code",
   "source": [
    "y=torch.arange(12,24).reshape((2,6))\n",
    "torch.cat((x,y),dim=0),torch.cat((x,y),dim=1)"
   ],
   "id": "e131781001cd2186",
   "outputs": [
    {
     "data": {
      "text/plain": [
       "(tensor([[ 0,  1,  2,  3,  4,  5],\n",
       "         [ 6,  7,  8,  9, 10, 11],\n",
       "         [12, 13, 14, 15, 16, 17],\n",
       "         [18, 19, 20, 21, 22, 23]]),\n",
       " tensor([[ 0,  1,  2,  3,  4,  5, 12, 13, 14, 15, 16, 17],\n",
       "         [ 6,  7,  8,  9, 10, 11, 18, 19, 20, 21, 22, 23]]))"
      ]
     },
     "execution_count": 57,
     "metadata": {},
     "output_type": "execute_result"
    }
   ],
   "execution_count": 57
  },
  {
   "metadata": {
    "ExecuteTime": {
     "end_time": "2025-05-19T09:22:14.549501Z",
     "start_time": "2025-05-19T09:22:14.543974Z"
    }
   },
   "cell_type": "code",
   "source": "x==y",
   "id": "83ccdd7decc06412",
   "outputs": [
    {
     "data": {
      "text/plain": [
       "tensor([[False, False, False, False, False, False],\n",
       "        [False, False, False, False, False, False]])"
      ]
     },
     "execution_count": 58,
     "metadata": {},
     "output_type": "execute_result"
    }
   ],
   "execution_count": 58
  },
  {
   "metadata": {
    "ExecuteTime": {
     "end_time": "2025-05-19T09:22:41.811825Z",
     "start_time": "2025-05-19T09:22:41.806647Z"
    }
   },
   "cell_type": "code",
   "source": "x.sum(),y.sum()",
   "id": "4ffcae0331d0e75e",
   "outputs": [
    {
     "data": {
      "text/plain": [
       "(tensor(66), tensor(210))"
      ]
     },
     "execution_count": 60,
     "metadata": {},
     "output_type": "execute_result"
    }
   ],
   "execution_count": 60
  },
  {
   "metadata": {
    "ExecuteTime": {
     "end_time": "2025-05-19T09:28:00.524819Z",
     "start_time": "2025-05-19T09:28:00.521074Z"
    }
   },
   "cell_type": "code",
   "source": "torch.cat((x,y),dim=0).numel()",
   "id": "eb931e5c412b6040",
   "outputs": [
    {
     "data": {
      "text/plain": [
       "24"
      ]
     },
     "execution_count": 61,
     "metadata": {},
     "output_type": "execute_result"
    }
   ],
   "execution_count": 61
  }
 ],
 "metadata": {
  "kernelspec": {
   "display_name": "Python 3",
   "language": "python",
   "name": "python3"
  },
  "language_info": {
   "codemirror_mode": {
    "name": "ipython",
    "version": 2
   },
   "file_extension": ".py",
   "mimetype": "text/x-python",
   "name": "python",
   "nbconvert_exporter": "python",
   "pygments_lexer": "ipython2",
   "version": "2.7.6"
  }
 },
 "nbformat": 4,
 "nbformat_minor": 5
}
