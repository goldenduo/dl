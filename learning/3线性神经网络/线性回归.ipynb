{
 "cells": [
  {
   "cell_type": "code",
   "id": "initial_id",
   "metadata": {
    "collapsed": true,
    "ExecuteTime": {
     "end_time": "2025-06-16T08:00:15.010527Z",
     "start_time": "2025-06-16T08:00:15.001749Z"
    }
   },
   "source": [
    "import torch\n",
    "def synthetic_data(w,b,num):\n",
    "    X=torch.normal(0,1,(num,len(w)))\n",
    "    y=torch.matmul(X,w)+b\n",
    "    y+=torch.normal(0,0.01,y.shape)\n",
    "    return X,y.reshape(-1,1)\n",
    "x,y=synthetic_data(w=torch.tensor([2,-10],dtype=torch.float),b=3,num=21)\n",
    "x,y"
   ],
   "outputs": [
    {
     "data": {
      "text/plain": [
       "(tensor([[-0.5642, -3.3581],\n",
       "         [ 0.7994,  1.6901],\n",
       "         [ 0.2426, -0.3457],\n",
       "         [ 0.2882, -0.4844],\n",
       "         [ 1.2891,  0.0637],\n",
       "         [-0.5868,  0.0843],\n",
       "         [-0.5873, -0.3113],\n",
       "         [ 1.0301,  1.0000],\n",
       "         [-0.9473, -0.2854],\n",
       "         [ 0.7938,  0.9784],\n",
       "         [-0.0051, -1.8228],\n",
       "         [-0.7873,  1.4699],\n",
       "         [ 0.4030,  2.1414],\n",
       "         [-1.5022, -0.4313],\n",
       "         [ 0.4460, -0.1050],\n",
       "         [-0.0839,  0.6596],\n",
       "         [ 0.6244,  0.5774],\n",
       "         [-0.9554, -0.7070],\n",
       "         [ 0.0115, -0.5776],\n",
       "         [ 0.2002,  0.2795],\n",
       "         [ 0.0528, -0.0276]]),\n",
       " tensor([[ 35.4566],\n",
       "         [-12.3145],\n",
       "         [  6.9365],\n",
       "         [  8.4261],\n",
       "         [  4.9636],\n",
       "         [  0.9895],\n",
       "         [  4.9415],\n",
       "         [ -4.9401],\n",
       "         [  3.9722],\n",
       "         [ -5.2016],\n",
       "         [ 21.2123],\n",
       "         [-13.2760],\n",
       "         [-17.6044],\n",
       "         [  4.3141],\n",
       "         [  4.9468],\n",
       "         [ -3.7391],\n",
       "         [ -1.5198],\n",
       "         [  8.1406],\n",
       "         [  8.7985],\n",
       "         [  0.6019],\n",
       "         [  3.3701]]))"
      ]
     },
     "execution_count": 82,
     "metadata": {},
     "output_type": "execute_result"
    }
   ],
   "execution_count": 82
  },
  {
   "metadata": {
    "ExecuteTime": {
     "end_time": "2025-06-16T08:00:15.152961Z",
     "start_time": "2025-06-16T08:00:15.020050Z"
    }
   },
   "cell_type": "code",
   "source": [
    "from matplotlib import pyplot as plt\n",
    "plt.scatter(x[:,1].numpy(),y[:,0].numpy())"
   ],
   "id": "511df87d78f51238",
   "outputs": [
    {
     "data": {
      "text/plain": [
       "<matplotlib.collections.PathCollection at 0x12d8ee1f0>"
      ]
     },
     "execution_count": 83,
     "metadata": {},
     "output_type": "execute_result"
    },
    {
     "data": {
      "text/plain": [
       "<Figure size 640x480 with 1 Axes>"
      ],
      "image/png": "[encoded data removed]"
     },
     "metadata": {},
     "output_type": "display_data"
    }
   ],
   "execution_count": 83
  },
  {
   "metadata": {
    "ExecuteTime": {
     "end_time": "2025-06-16T08:08:32.605708Z",
     "start_time": "2025-06-16T08:08:32.593060Z"
    }
   },
   "cell_type": "code",
   "source": [
    "import random\n",
    "def data_iter(batch_size, features, labels):\n",
    "    num_examples = len(features)\n",
    "    indices = list(range(num_examples))\n",
    "    # 这些样本是随机读取的，没有特定的顺序\n",
    "    random.shuffle(indices)\n",
    "    for i in range(0, num_examples, batch_size):\n",
    "        batch_indices = torch.tensor(\n",
    "            indices[i: min(i + batch_size, num_examples)])\n",
    "        print(batch_indices)\n",
    "        yield features[batch_indices], labels[batch_indices]\n",
    "for i in data_iter(10,x,y):\n",
    "    print(i)"
   ],
   "id": "a58e00e9dd740dcb",
   "outputs": [
    {
     "name": "stdout",
     "output_type": "stream",
     "text": [
      "tensor([ 3, 10,  7, 19,  9,  1,  8,  4,  5, 15])\n",
      "(tensor([[ 0.2882, -0.4844],\n",
      "        [-0.0051, -1.8228],\n",
      "        [ 1.0301,  1.0000],\n",
      "        [ 0.2002,  0.2795],\n",
      "        [ 0.7938,  0.9784],\n",
      "        [ 0.7994,  1.6901],\n",
      "        [-0.9473, -0.2854],\n",
      "        [ 1.2891,  0.0637],\n",
      "        [-0.5868,  0.0843],\n",
      "        [-0.0839,  0.6596]]), tensor([[  8.4261],\n",
      "        [ 21.2123],\n",
      "        [ -4.9401],\n",
      "        [  0.6019],\n",
      "        [ -5.2016],\n",
      "        [-12.3145],\n",
      "        [  3.9722],\n",
      "        [  4.9636],\n",
      "        [  0.9895],\n",
      "        [ -3.7391]]))\n",
      "tensor([ 6, 13, 11,  2, 17, 18, 20, 12,  0, 16])\n",
      "(tensor([[-0.5873, -0.3113],\n",
      "        [-1.5022, -0.4313],\n",
      "        [-0.7873,  1.4699],\n",
      "        [ 0.2426, -0.3457],\n",
      "        [-0.9554, -0.7070],\n",
      "        [ 0.0115, -0.5776],\n",
      "        [ 0.0528, -0.0276],\n",
      "        [ 0.4030,  2.1414],\n",
      "        [-0.5642, -3.3581],\n",
      "        [ 0.6244,  0.5774]]), tensor([[  4.9415],\n",
      "        [  4.3141],\n",
      "        [-13.2760],\n",
      "        [  6.9365],\n",
      "        [  8.1406],\n",
      "        [  8.7985],\n",
      "        [  3.3701],\n",
      "        [-17.6044],\n",
      "        [ 35.4566],\n",
      "        [ -1.5198]]))\n",
      "tensor([14])\n",
      "(tensor([[ 0.4460, -0.1050]]), tensor([[4.9468]]))\n"
     ]
    }
   ],
   "execution_count": 85
  },
  {
   "metadata": {
    "ExecuteTime": {
     "end_time": "2025-06-16T08:09:25.735643Z",
     "start_time": "2025-06-16T08:09:25.729519Z"
    }
   },
   "cell_type": "code",
   "source": [
    "x=torch.tensor([0,1,2,3,4])\n",
    "y=torch.tensor([0,1,2])\n",
    "x[y]"
   ],
   "id": "bd373fefa0f2bf0a",
   "outputs": [
    {
     "data": {
      "text/plain": [
       "tensor([0, 1, 2])"
      ]
     },
     "execution_count": 86,
     "metadata": {},
     "output_type": "execute_result"
    }
   ],
   "execution_count": 86
  },
  {
   "metadata": {
    "ExecuteTime": {
     "end_time": "2025-06-16T08:39:42.820427Z",
     "start_time": "2025-06-16T08:39:42.784624Z"
    }
   },
   "cell_type": "code",
   "source": [
    "class ContextManager(object):\n",
    "    def __enter__(self):\n",
    "        print(\"enter\")\n",
    "        return self\n",
    "    def __exit__(self, *args):\n",
    "        print(\"exit\")\n",
    "with ContextManager() as context:\n",
    "    print(\"context\")"
   ],
   "id": "6dae1a3114803f9c",
   "outputs": [
    {
     "name": "stdout",
     "output_type": "stream",
     "text": [
      "enter\n",
      "context\n",
      "exit\n"
     ]
    }
   ],
   "execution_count": 87
  },
  {
   "metadata": {
    "ExecuteTime": {
     "end_time": "2025-06-17T00:46:16.307589Z",
     "start_time": "2025-06-17T00:46:16.302740Z"
    }
   },
   "cell_type": "code",
   "source": [
    "x=torch.arange(10).reshape(5,2)\n",
    "y=torch.arange(2).reshape(2,1)\n",
    "torch.matmul(x,y)"
   ],
   "id": "de11a1a66a5fa4b2",
   "outputs": [
    {
     "data": {
      "text/plain": [
       "tensor([[1],\n",
       "        [3],\n",
       "        [5],\n",
       "        [7],\n",
       "        [9]])"
      ]
     },
     "execution_count": 92,
     "metadata": {},
     "output_type": "execute_result"
    }
   ],
   "execution_count": 92
  }
 ],
 "metadata": {
  "kernelspec": {
   "display_name": "Python 3",
   "language": "python",
   "name": "python3"
  },
  "language_info": {
   "codemirror_mode": {
    "name": "ipython",
    "version": 2
   },
   "file_extension": ".py",
   "mimetype": "text/x-python",
   "name": "python",
   "nbconvert_exporter": "python",
   "pygments_lexer": "ipython2",
   "version": "2.7.6"
  }
 },
 "nbformat": 4,
 "nbformat_minor": 5
}
